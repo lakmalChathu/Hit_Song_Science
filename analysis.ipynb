{
 "cells": [
  {
   "cell_type": "code",
   "execution_count": 1,
   "metadata": {},
   "outputs": [],
   "source": [
    "# import required libraries\n",
    "import warnings\n",
    "warnings.filterwarnings('ignore')\n",
    "\n",
    "import pandas as pd\n",
    "import numpy as np\n",
    "import seaborn as sns\n",
    "from pprint import pprint\n",
    "import matplotlib.pyplot as plt\n",
    "import plotly.express as px\n",
    "\n",
    "from sklearn.model_selection import train_test_split, RandomizedSearchCV, GridSearchCV, ShuffleSplit, KFold\n",
    "from sklearn.metrics import accuracy_score, mean_squared_error, classification_report\n",
    "\n",
    "from sklearn.decomposition import PCA\n",
    "from sklearn.linear_model import LogisticRegression\n",
    "from sklearn.ensemble import RandomForestClassifier, ExtraTreesClassifier, GradientBoostingClassifier\n",
    "from sklearn.neighbors import KNeighborsClassifier"
   ]
  },
  {
   "cell_type": "code",
   "execution_count": 2,
   "metadata": {},
   "outputs": [
    {
     "data": {
      "text/html": [
       "<div>\n",
       "<style scoped>\n",
       "    .dataframe tbody tr th:only-of-type {\n",
       "        vertical-align: middle;\n",
       "    }\n",
       "\n",
       "    .dataframe tbody tr th {\n",
       "        vertical-align: top;\n",
       "    }\n",
       "\n",
       "    .dataframe thead th {\n",
       "        text-align: right;\n",
       "    }\n",
       "</style>\n",
       "<table border=\"1\" class=\"dataframe\">\n",
       "  <thead>\n",
       "    <tr style=\"text-align: right;\">\n",
       "      <th></th>\n",
       "      <th>Unnamed: 0</th>\n",
       "      <th>analysis_sample_rate</th>\n",
       "      <th>audio_md5</th>\n",
       "      <th>danceability</th>\n",
       "      <th>duration</th>\n",
       "      <th>end_of_fade_in</th>\n",
       "      <th>energy</th>\n",
       "      <th>idx_bars_confidence</th>\n",
       "      <th>idx_bars_start</th>\n",
       "      <th>idx_beats_confidence</th>\n",
       "      <th>...</th>\n",
       "      <th>idx_artist_terms</th>\n",
       "      <th>idx_similar_artists</th>\n",
       "      <th>release</th>\n",
       "      <th>release_7digitalid</th>\n",
       "      <th>song_hotttnesss</th>\n",
       "      <th>song_id</th>\n",
       "      <th>title</th>\n",
       "      <th>track_7digitalid</th>\n",
       "      <th>idx_artist_mbtags</th>\n",
       "      <th>year</th>\n",
       "    </tr>\n",
       "  </thead>\n",
       "  <tbody>\n",
       "    <tr>\n",
       "      <th>0</th>\n",
       "      <td>0</td>\n",
       "      <td>22050</td>\n",
       "      <td>aee9820911781c734e7694c5432990ca</td>\n",
       "      <td>0.0</td>\n",
       "      <td>252.05506</td>\n",
       "      <td>2.049</td>\n",
       "      <td>0.0</td>\n",
       "      <td>0</td>\n",
       "      <td>0</td>\n",
       "      <td>0</td>\n",
       "      <td>...</td>\n",
       "      <td>0</td>\n",
       "      <td>0</td>\n",
       "      <td>Monster Ballads X-Mas</td>\n",
       "      <td>633681</td>\n",
       "      <td>0.542899</td>\n",
       "      <td>SOQMMHC12AB0180CB8</td>\n",
       "      <td>Silent Night</td>\n",
       "      <td>7032331</td>\n",
       "      <td>0</td>\n",
       "      <td>2003</td>\n",
       "    </tr>\n",
       "    <tr>\n",
       "      <th>1</th>\n",
       "      <td>1</td>\n",
       "      <td>22050</td>\n",
       "      <td>ed222d07c83bac7689d52753610a513a</td>\n",
       "      <td>0.0</td>\n",
       "      <td>156.55138</td>\n",
       "      <td>0.258</td>\n",
       "      <td>0.0</td>\n",
       "      <td>0</td>\n",
       "      <td>0</td>\n",
       "      <td>0</td>\n",
       "      <td>...</td>\n",
       "      <td>0</td>\n",
       "      <td>0</td>\n",
       "      <td>Karkuteillä</td>\n",
       "      <td>145266</td>\n",
       "      <td>0.299877</td>\n",
       "      <td>SOVFVAK12A8C1350D9</td>\n",
       "      <td>Tanssi vaan</td>\n",
       "      <td>1514808</td>\n",
       "      <td>0</td>\n",
       "      <td>1995</td>\n",
       "    </tr>\n",
       "    <tr>\n",
       "      <th>2</th>\n",
       "      <td>2</td>\n",
       "      <td>22050</td>\n",
       "      <td>96c7104889a128fef84fa469d60e380c</td>\n",
       "      <td>0.0</td>\n",
       "      <td>138.97098</td>\n",
       "      <td>0.000</td>\n",
       "      <td>0.0</td>\n",
       "      <td>0</td>\n",
       "      <td>0</td>\n",
       "      <td>0</td>\n",
       "      <td>...</td>\n",
       "      <td>0</td>\n",
       "      <td>0</td>\n",
       "      <td>Butter</td>\n",
       "      <td>625706</td>\n",
       "      <td>0.617871</td>\n",
       "      <td>SOGTUKN12AB017F4F1</td>\n",
       "      <td>No One Could Ever</td>\n",
       "      <td>6945353</td>\n",
       "      <td>0</td>\n",
       "      <td>2006</td>\n",
       "    </tr>\n",
       "    <tr>\n",
       "      <th>3</th>\n",
       "      <td>3</td>\n",
       "      <td>22050</td>\n",
       "      <td>0f7da84b6b583e3846c7e022fb3a92a2</td>\n",
       "      <td>0.0</td>\n",
       "      <td>145.05751</td>\n",
       "      <td>0.000</td>\n",
       "      <td>0.0</td>\n",
       "      <td>0</td>\n",
       "      <td>0</td>\n",
       "      <td>0</td>\n",
       "      <td>...</td>\n",
       "      <td>0</td>\n",
       "      <td>0</td>\n",
       "      <td>De Culo</td>\n",
       "      <td>199368</td>\n",
       "      <td>NaN</td>\n",
       "      <td>SOBNYVR12A8C13558C</td>\n",
       "      <td>Si Vos Querés</td>\n",
       "      <td>2168257</td>\n",
       "      <td>0</td>\n",
       "      <td>2003</td>\n",
       "    </tr>\n",
       "    <tr>\n",
       "      <th>4</th>\n",
       "      <td>4</td>\n",
       "      <td>22050</td>\n",
       "      <td>228dd6392ad8001b0281f533f34c72fd</td>\n",
       "      <td>0.0</td>\n",
       "      <td>514.29832</td>\n",
       "      <td>0.000</td>\n",
       "      <td>0.0</td>\n",
       "      <td>0</td>\n",
       "      <td>0</td>\n",
       "      <td>0</td>\n",
       "      <td>...</td>\n",
       "      <td>0</td>\n",
       "      <td>0</td>\n",
       "      <td>Rene Ablaze Presents Winter Sessions</td>\n",
       "      <td>209038</td>\n",
       "      <td>NaN</td>\n",
       "      <td>SOHSBXH12A8C13B0DF</td>\n",
       "      <td>Tangle Of Aspens</td>\n",
       "      <td>2264873</td>\n",
       "      <td>0</td>\n",
       "      <td>0</td>\n",
       "    </tr>\n",
       "  </tbody>\n",
       "</table>\n",
       "<p>5 rows × 54 columns</p>\n",
       "</div>"
      ],
      "text/plain": [
       "   Unnamed: 0  analysis_sample_rate                         audio_md5  \\\n",
       "0           0                 22050  aee9820911781c734e7694c5432990ca   \n",
       "1           1                 22050  ed222d07c83bac7689d52753610a513a   \n",
       "2           2                 22050  96c7104889a128fef84fa469d60e380c   \n",
       "3           3                 22050  0f7da84b6b583e3846c7e022fb3a92a2   \n",
       "4           4                 22050  228dd6392ad8001b0281f533f34c72fd   \n",
       "\n",
       "   danceability   duration  end_of_fade_in  energy  idx_bars_confidence  \\\n",
       "0           0.0  252.05506           2.049     0.0                    0   \n",
       "1           0.0  156.55138           0.258     0.0                    0   \n",
       "2           0.0  138.97098           0.000     0.0                    0   \n",
       "3           0.0  145.05751           0.000     0.0                    0   \n",
       "4           0.0  514.29832           0.000     0.0                    0   \n",
       "\n",
       "   idx_bars_start  idx_beats_confidence  ...  idx_artist_terms  \\\n",
       "0               0                     0  ...                 0   \n",
       "1               0                     0  ...                 0   \n",
       "2               0                     0  ...                 0   \n",
       "3               0                     0  ...                 0   \n",
       "4               0                     0  ...                 0   \n",
       "\n",
       "   idx_similar_artists                               release  \\\n",
       "0                    0                 Monster Ballads X-Mas   \n",
       "1                    0                           Karkuteillä   \n",
       "2                    0                                Butter   \n",
       "3                    0                               De Culo   \n",
       "4                    0  Rene Ablaze Presents Winter Sessions   \n",
       "\n",
       "   release_7digitalid  song_hotttnesss             song_id              title  \\\n",
       "0              633681         0.542899  SOQMMHC12AB0180CB8       Silent Night   \n",
       "1              145266         0.299877  SOVFVAK12A8C1350D9        Tanssi vaan   \n",
       "2              625706         0.617871  SOGTUKN12AB017F4F1  No One Could Ever   \n",
       "3              199368              NaN  SOBNYVR12A8C13558C      Si Vos Querés   \n",
       "4              209038              NaN  SOHSBXH12A8C13B0DF   Tangle Of Aspens   \n",
       "\n",
       "   track_7digitalid  idx_artist_mbtags  year  \n",
       "0           7032331                  0  2003  \n",
       "1           1514808                  0  1995  \n",
       "2           6945353                  0  2006  \n",
       "3           2168257                  0  2003  \n",
       "4           2264873                  0     0  \n",
       "\n",
       "[5 rows x 54 columns]"
      ]
     },
     "execution_count": 2,
     "metadata": {},
     "output_type": "execute_result"
    }
   ],
   "source": [
    "df = pd.read_csv('msd_summary.csv', delimiter = ',')\n",
    "df.head()"
   ]
  },
  {
   "cell_type": "code",
   "execution_count": 3,
   "metadata": {},
   "outputs": [
    {
     "data": {
      "text/plain": [
       "Index(['Unnamed: 0', 'analysis_sample_rate', 'audio_md5', 'danceability',\n",
       "       'duration', 'end_of_fade_in', 'energy', 'idx_bars_confidence',\n",
       "       'idx_bars_start', 'idx_beats_confidence', 'idx_beats_start',\n",
       "       'idx_sections_confidence', 'idx_sections_start',\n",
       "       'idx_segments_confidence', 'idx_segments_loudness_max',\n",
       "       'idx_segments_loudness_max_time', 'idx_segments_loudness_start',\n",
       "       'idx_segments_pitches', 'idx_segments_start', 'idx_segments_timbre',\n",
       "       'idx_tatums_confidence', 'idx_tatums_start', 'key', 'key_confidence',\n",
       "       'loudness', 'mode', 'mode_confidence', 'start_of_fade_out', 'tempo',\n",
       "       'time_signature', 'time_signature_confidence', 'track_id',\n",
       "       'analyzer_version', 'artist_7digitalid', 'artist_familiarity',\n",
       "       'artist_hotttnesss', 'artist_id', 'artist_latitude', 'artist_location',\n",
       "       'artist_longitude', 'artist_mbid', 'artist_name', 'artist_playmeid',\n",
       "       'genre', 'idx_artist_terms', 'idx_similar_artists', 'release',\n",
       "       'release_7digitalid', 'song_hotttnesss', 'song_id', 'title',\n",
       "       'track_7digitalid', 'idx_artist_mbtags', 'year'],\n",
       "      dtype='object')"
      ]
     },
     "execution_count": 3,
     "metadata": {},
     "output_type": "execute_result"
    }
   ],
   "source": [
    "df.columns"
   ]
  },
  {
   "cell_type": "code",
   "execution_count": 4,
   "metadata": {},
   "outputs": [
    {
     "name": "stdout",
     "output_type": "stream",
     "text": [
      "columns count 54\n"
     ]
    }
   ],
   "source": [
    "print(f'columns count {len(df.columns)}')"
   ]
  },
  {
   "cell_type": "code",
   "execution_count": 5,
   "metadata": {},
   "outputs": [],
   "source": [
    "# removing unique columns & personal information to generalize the model\n",
    "# then, the model would be able predict song popularity even with new singers \n",
    "\n",
    "df.drop(['Unnamed: 0', 'analysis_sample_rate', 'audio_md5', 'track_id', 'artist_7digitalid', 'release_7digitalid', 'release', 'song_id', 'artist_longitude', 'artist_mbid', 'artist_name', 'artist_playmeid', 'track_7digitalid', 'artist_id', 'artist_latitude', 'artist_location',\n",
    "         'idx_bars_confidence', 'idx_bars_start', 'idx_beats_confidence',\n",
    "       'idx_beats_start', 'idx_sections_confidence', 'idx_sections_start',\n",
    "       'idx_segments_confidence', 'idx_segments_loudness_max',\n",
    "       'idx_segments_loudness_max_time', 'idx_segments_loudness_start',\n",
    "       'idx_segments_pitches', 'idx_segments_start', 'idx_segments_timbre',\n",
    "       'idx_tatums_confidence', 'idx_tatums_start', 'idx_artist_terms', 'idx_similar_artists', 'idx_artist_mbtags', \n",
    "         'analyzer_version'\n",
    "        ], axis=1, inplace=True)"
   ]
  },
  {
   "cell_type": "code",
   "execution_count": 6,
   "metadata": {},
   "outputs": [
    {
     "data": {
      "text/html": [
       "<div>\n",
       "<style scoped>\n",
       "    .dataframe tbody tr th:only-of-type {\n",
       "        vertical-align: middle;\n",
       "    }\n",
       "\n",
       "    .dataframe tbody tr th {\n",
       "        vertical-align: top;\n",
       "    }\n",
       "\n",
       "    .dataframe thead th {\n",
       "        text-align: right;\n",
       "    }\n",
       "</style>\n",
       "<table border=\"1\" class=\"dataframe\">\n",
       "  <thead>\n",
       "    <tr style=\"text-align: right;\">\n",
       "      <th></th>\n",
       "      <th>danceability</th>\n",
       "      <th>duration</th>\n",
       "      <th>end_of_fade_in</th>\n",
       "      <th>energy</th>\n",
       "      <th>key</th>\n",
       "      <th>key_confidence</th>\n",
       "      <th>loudness</th>\n",
       "      <th>mode</th>\n",
       "      <th>mode_confidence</th>\n",
       "      <th>start_of_fade_out</th>\n",
       "      <th>tempo</th>\n",
       "      <th>time_signature</th>\n",
       "      <th>time_signature_confidence</th>\n",
       "      <th>artist_familiarity</th>\n",
       "      <th>artist_hotttnesss</th>\n",
       "      <th>genre</th>\n",
       "      <th>song_hotttnesss</th>\n",
       "      <th>title</th>\n",
       "      <th>year</th>\n",
       "    </tr>\n",
       "  </thead>\n",
       "  <tbody>\n",
       "    <tr>\n",
       "      <th>0</th>\n",
       "      <td>0.0</td>\n",
       "      <td>252.05506</td>\n",
       "      <td>2.049</td>\n",
       "      <td>0.0</td>\n",
       "      <td>10</td>\n",
       "      <td>0.777</td>\n",
       "      <td>-4.829</td>\n",
       "      <td>0</td>\n",
       "      <td>0.688</td>\n",
       "      <td>236.635</td>\n",
       "      <td>87.002</td>\n",
       "      <td>4</td>\n",
       "      <td>0.940</td>\n",
       "      <td>0.649822</td>\n",
       "      <td>0.394032</td>\n",
       "      <td>NaN</td>\n",
       "      <td>0.542899</td>\n",
       "      <td>Silent Night</td>\n",
       "      <td>2003</td>\n",
       "    </tr>\n",
       "    <tr>\n",
       "      <th>1</th>\n",
       "      <td>0.0</td>\n",
       "      <td>156.55138</td>\n",
       "      <td>0.258</td>\n",
       "      <td>0.0</td>\n",
       "      <td>9</td>\n",
       "      <td>0.808</td>\n",
       "      <td>-10.555</td>\n",
       "      <td>1</td>\n",
       "      <td>0.355</td>\n",
       "      <td>148.660</td>\n",
       "      <td>150.778</td>\n",
       "      <td>1</td>\n",
       "      <td>0.000</td>\n",
       "      <td>0.439604</td>\n",
       "      <td>0.356992</td>\n",
       "      <td>NaN</td>\n",
       "      <td>0.299877</td>\n",
       "      <td>Tanssi vaan</td>\n",
       "      <td>1995</td>\n",
       "    </tr>\n",
       "    <tr>\n",
       "      <th>2</th>\n",
       "      <td>0.0</td>\n",
       "      <td>138.97098</td>\n",
       "      <td>0.000</td>\n",
       "      <td>0.0</td>\n",
       "      <td>7</td>\n",
       "      <td>0.418</td>\n",
       "      <td>-2.060</td>\n",
       "      <td>1</td>\n",
       "      <td>0.566</td>\n",
       "      <td>138.971</td>\n",
       "      <td>177.768</td>\n",
       "      <td>4</td>\n",
       "      <td>0.446</td>\n",
       "      <td>0.643681</td>\n",
       "      <td>0.437504</td>\n",
       "      <td>NaN</td>\n",
       "      <td>0.617871</td>\n",
       "      <td>No One Could Ever</td>\n",
       "      <td>2006</td>\n",
       "    </tr>\n",
       "    <tr>\n",
       "      <th>3</th>\n",
       "      <td>0.0</td>\n",
       "      <td>145.05751</td>\n",
       "      <td>0.000</td>\n",
       "      <td>0.0</td>\n",
       "      <td>7</td>\n",
       "      <td>0.125</td>\n",
       "      <td>-4.654</td>\n",
       "      <td>1</td>\n",
       "      <td>0.451</td>\n",
       "      <td>138.687</td>\n",
       "      <td>87.433</td>\n",
       "      <td>4</td>\n",
       "      <td>0.000</td>\n",
       "      <td>0.448501</td>\n",
       "      <td>0.372349</td>\n",
       "      <td>NaN</td>\n",
       "      <td>NaN</td>\n",
       "      <td>Si Vos Querés</td>\n",
       "      <td>2003</td>\n",
       "    </tr>\n",
       "    <tr>\n",
       "      <th>4</th>\n",
       "      <td>0.0</td>\n",
       "      <td>514.29832</td>\n",
       "      <td>0.000</td>\n",
       "      <td>0.0</td>\n",
       "      <td>5</td>\n",
       "      <td>0.097</td>\n",
       "      <td>-7.806</td>\n",
       "      <td>0</td>\n",
       "      <td>0.290</td>\n",
       "      <td>506.717</td>\n",
       "      <td>140.035</td>\n",
       "      <td>4</td>\n",
       "      <td>0.315</td>\n",
       "      <td>0.000000</td>\n",
       "      <td>0.000000</td>\n",
       "      <td>NaN</td>\n",
       "      <td>NaN</td>\n",
       "      <td>Tangle Of Aspens</td>\n",
       "      <td>0</td>\n",
       "    </tr>\n",
       "  </tbody>\n",
       "</table>\n",
       "</div>"
      ],
      "text/plain": [
       "   danceability   duration  end_of_fade_in  energy  key  key_confidence  \\\n",
       "0           0.0  252.05506           2.049     0.0   10           0.777   \n",
       "1           0.0  156.55138           0.258     0.0    9           0.808   \n",
       "2           0.0  138.97098           0.000     0.0    7           0.418   \n",
       "3           0.0  145.05751           0.000     0.0    7           0.125   \n",
       "4           0.0  514.29832           0.000     0.0    5           0.097   \n",
       "\n",
       "   loudness  mode  mode_confidence  start_of_fade_out    tempo  \\\n",
       "0    -4.829     0            0.688            236.635   87.002   \n",
       "1   -10.555     1            0.355            148.660  150.778   \n",
       "2    -2.060     1            0.566            138.971  177.768   \n",
       "3    -4.654     1            0.451            138.687   87.433   \n",
       "4    -7.806     0            0.290            506.717  140.035   \n",
       "\n",
       "   time_signature  time_signature_confidence  artist_familiarity  \\\n",
       "0               4                      0.940            0.649822   \n",
       "1               1                      0.000            0.439604   \n",
       "2               4                      0.446            0.643681   \n",
       "3               4                      0.000            0.448501   \n",
       "4               4                      0.315            0.000000   \n",
       "\n",
       "   artist_hotttnesss  genre  song_hotttnesss              title  year  \n",
       "0           0.394032    NaN         0.542899       Silent Night  2003  \n",
       "1           0.356992    NaN         0.299877        Tanssi vaan  1995  \n",
       "2           0.437504    NaN         0.617871  No One Could Ever  2006  \n",
       "3           0.372349    NaN              NaN      Si Vos Querés  2003  \n",
       "4           0.000000    NaN              NaN   Tangle Of Aspens     0  "
      ]
     },
     "execution_count": 6,
     "metadata": {},
     "output_type": "execute_result"
    }
   ],
   "source": [
    "df.head()"
   ]
  },
  {
   "cell_type": "code",
   "execution_count": 7,
   "metadata": {},
   "outputs": [
    {
     "data": {
      "text/plain": [
       "Index(['danceability', 'duration', 'end_of_fade_in', 'energy', 'key',\n",
       "       'key_confidence', 'loudness', 'mode', 'mode_confidence',\n",
       "       'start_of_fade_out', 'tempo', 'time_signature',\n",
       "       'time_signature_confidence', 'artist_familiarity', 'artist_hotttnesss',\n",
       "       'genre', 'song_hotttnesss', 'title', 'year'],\n",
       "      dtype='object')"
      ]
     },
     "execution_count": 7,
     "metadata": {},
     "output_type": "execute_result"
    }
   ],
   "source": [
    "df.columns"
   ]
  },
  {
   "cell_type": "code",
   "execution_count": 8,
   "metadata": {},
   "outputs": [
    {
     "name": "stdout",
     "output_type": "stream",
     "text": [
      "Before shape = (1000000, 19)\n",
      "After shape = (581965, 19)\n"
     ]
    }
   ],
   "source": [
    "# remove data points of which does not contains song_hotttness \n",
    "print(f'Before shape = {df.shape}')\n",
    "df.dropna(subset=['song_hotttnesss'], inplace=True)\n",
    "print(f'After shape = {df.shape}')"
   ]
  },
  {
   "cell_type": "code",
   "execution_count": 9,
   "metadata": {},
   "outputs": [
    {
     "data": {
      "text/html": [
       "<div>\n",
       "<style scoped>\n",
       "    .dataframe tbody tr th:only-of-type {\n",
       "        vertical-align: middle;\n",
       "    }\n",
       "\n",
       "    .dataframe tbody tr th {\n",
       "        vertical-align: top;\n",
       "    }\n",
       "\n",
       "    .dataframe thead th {\n",
       "        text-align: right;\n",
       "    }\n",
       "</style>\n",
       "<table border=\"1\" class=\"dataframe\">\n",
       "  <thead>\n",
       "    <tr style=\"text-align: right;\">\n",
       "      <th></th>\n",
       "      <th>danceability</th>\n",
       "      <th>duration</th>\n",
       "      <th>end_of_fade_in</th>\n",
       "      <th>energy</th>\n",
       "      <th>key</th>\n",
       "      <th>key_confidence</th>\n",
       "      <th>loudness</th>\n",
       "      <th>mode</th>\n",
       "      <th>mode_confidence</th>\n",
       "      <th>start_of_fade_out</th>\n",
       "      <th>tempo</th>\n",
       "      <th>time_signature</th>\n",
       "      <th>time_signature_confidence</th>\n",
       "      <th>artist_familiarity</th>\n",
       "      <th>artist_hotttnesss</th>\n",
       "      <th>genre</th>\n",
       "      <th>song_hotttnesss</th>\n",
       "      <th>title</th>\n",
       "      <th>year</th>\n",
       "    </tr>\n",
       "  </thead>\n",
       "  <tbody>\n",
       "    <tr>\n",
       "      <th>0</th>\n",
       "      <td>0.0</td>\n",
       "      <td>252.05506</td>\n",
       "      <td>2.049</td>\n",
       "      <td>0.0</td>\n",
       "      <td>10</td>\n",
       "      <td>0.777</td>\n",
       "      <td>-4.829</td>\n",
       "      <td>0</td>\n",
       "      <td>0.688</td>\n",
       "      <td>236.635</td>\n",
       "      <td>87.002</td>\n",
       "      <td>4</td>\n",
       "      <td>0.940</td>\n",
       "      <td>0.649822</td>\n",
       "      <td>0.394032</td>\n",
       "      <td>NaN</td>\n",
       "      <td>0.542899</td>\n",
       "      <td>Silent Night</td>\n",
       "      <td>2003</td>\n",
       "    </tr>\n",
       "    <tr>\n",
       "      <th>1</th>\n",
       "      <td>0.0</td>\n",
       "      <td>156.55138</td>\n",
       "      <td>0.258</td>\n",
       "      <td>0.0</td>\n",
       "      <td>9</td>\n",
       "      <td>0.808</td>\n",
       "      <td>-10.555</td>\n",
       "      <td>1</td>\n",
       "      <td>0.355</td>\n",
       "      <td>148.660</td>\n",
       "      <td>150.778</td>\n",
       "      <td>1</td>\n",
       "      <td>0.000</td>\n",
       "      <td>0.439604</td>\n",
       "      <td>0.356992</td>\n",
       "      <td>NaN</td>\n",
       "      <td>0.299877</td>\n",
       "      <td>Tanssi vaan</td>\n",
       "      <td>1995</td>\n",
       "    </tr>\n",
       "    <tr>\n",
       "      <th>2</th>\n",
       "      <td>0.0</td>\n",
       "      <td>138.97098</td>\n",
       "      <td>0.000</td>\n",
       "      <td>0.0</td>\n",
       "      <td>7</td>\n",
       "      <td>0.418</td>\n",
       "      <td>-2.060</td>\n",
       "      <td>1</td>\n",
       "      <td>0.566</td>\n",
       "      <td>138.971</td>\n",
       "      <td>177.768</td>\n",
       "      <td>4</td>\n",
       "      <td>0.446</td>\n",
       "      <td>0.643681</td>\n",
       "      <td>0.437504</td>\n",
       "      <td>NaN</td>\n",
       "      <td>0.617871</td>\n",
       "      <td>No One Could Ever</td>\n",
       "      <td>2006</td>\n",
       "    </tr>\n",
       "    <tr>\n",
       "      <th>12</th>\n",
       "      <td>0.0</td>\n",
       "      <td>301.60934</td>\n",
       "      <td>0.000</td>\n",
       "      <td>0.0</td>\n",
       "      <td>1</td>\n",
       "      <td>0.450</td>\n",
       "      <td>-4.882</td>\n",
       "      <td>1</td>\n",
       "      <td>0.520</td>\n",
       "      <td>291.405</td>\n",
       "      <td>85.340</td>\n",
       "      <td>5</td>\n",
       "      <td>0.581</td>\n",
       "      <td>0.622005</td>\n",
       "      <td>0.451579</td>\n",
       "      <td>NaN</td>\n",
       "      <td>0.392009</td>\n",
       "      <td>Cold Beer feat. Prince Metropolitan</td>\n",
       "      <td>0</td>\n",
       "    </tr>\n",
       "    <tr>\n",
       "      <th>13</th>\n",
       "      <td>0.0</td>\n",
       "      <td>318.45832</td>\n",
       "      <td>0.502</td>\n",
       "      <td>0.0</td>\n",
       "      <td>10</td>\n",
       "      <td>0.764</td>\n",
       "      <td>-10.670</td>\n",
       "      <td>1</td>\n",
       "      <td>0.627</td>\n",
       "      <td>306.265</td>\n",
       "      <td>67.567</td>\n",
       "      <td>3</td>\n",
       "      <td>0.676</td>\n",
       "      <td>0.621826</td>\n",
       "      <td>0.406985</td>\n",
       "      <td>NaN</td>\n",
       "      <td>0.463490</td>\n",
       "      <td>Pilots</td>\n",
       "      <td>2005</td>\n",
       "    </tr>\n",
       "  </tbody>\n",
       "</table>\n",
       "</div>"
      ],
      "text/plain": [
       "    danceability   duration  end_of_fade_in  energy  key  key_confidence  \\\n",
       "0            0.0  252.05506           2.049     0.0   10           0.777   \n",
       "1            0.0  156.55138           0.258     0.0    9           0.808   \n",
       "2            0.0  138.97098           0.000     0.0    7           0.418   \n",
       "12           0.0  301.60934           0.000     0.0    1           0.450   \n",
       "13           0.0  318.45832           0.502     0.0   10           0.764   \n",
       "\n",
       "    loudness  mode  mode_confidence  start_of_fade_out    tempo  \\\n",
       "0     -4.829     0            0.688            236.635   87.002   \n",
       "1    -10.555     1            0.355            148.660  150.778   \n",
       "2     -2.060     1            0.566            138.971  177.768   \n",
       "12    -4.882     1            0.520            291.405   85.340   \n",
       "13   -10.670     1            0.627            306.265   67.567   \n",
       "\n",
       "    time_signature  time_signature_confidence  artist_familiarity  \\\n",
       "0                4                      0.940            0.649822   \n",
       "1                1                      0.000            0.439604   \n",
       "2                4                      0.446            0.643681   \n",
       "12               5                      0.581            0.622005   \n",
       "13               3                      0.676            0.621826   \n",
       "\n",
       "    artist_hotttnesss  genre  song_hotttnesss  \\\n",
       "0            0.394032    NaN         0.542899   \n",
       "1            0.356992    NaN         0.299877   \n",
       "2            0.437504    NaN         0.617871   \n",
       "12           0.451579    NaN         0.392009   \n",
       "13           0.406985    NaN         0.463490   \n",
       "\n",
       "                                  title  year  \n",
       "0                          Silent Night  2003  \n",
       "1                           Tanssi vaan  1995  \n",
       "2                     No One Could Ever  2006  \n",
       "12  Cold Beer feat. Prince Metropolitan     0  \n",
       "13                               Pilots  2005  "
      ]
     },
     "execution_count": 9,
     "metadata": {},
     "output_type": "execute_result"
    }
   ],
   "source": [
    "df.head()"
   ]
  },
  {
   "cell_type": "code",
   "execution_count": 10,
   "metadata": {},
   "outputs": [],
   "source": [
    "df = df.head(10000)"
   ]
  },
  {
   "cell_type": "code",
   "execution_count": 11,
   "metadata": {},
   "outputs": [
    {
     "data": {
      "text/plain": [
       "[nan]"
      ]
     },
     "execution_count": 11,
     "metadata": {},
     "output_type": "execute_result"
    }
   ],
   "source": [
    "# check genre \n",
    "genre = list(df['genre'].unique())\n",
    "genre"
   ]
  },
  {
   "cell_type": "code",
   "execution_count": 12,
   "metadata": {},
   "outputs": [],
   "source": [
    "df.drop(['genre'], axis=1, inplace=True)"
   ]
  },
  {
   "cell_type": "code",
   "execution_count": 13,
   "metadata": {},
   "outputs": [
    {
     "data": {
      "text/plain": [
       "[0.0]"
      ]
     },
     "execution_count": 13,
     "metadata": {},
     "output_type": "execute_result"
    }
   ],
   "source": [
    "# check danceability \n",
    "danceability = list(df['danceability'].unique())\n",
    "danceability"
   ]
  },
  {
   "cell_type": "code",
   "execution_count": 14,
   "metadata": {},
   "outputs": [],
   "source": [
    "df.drop(['danceability'], axis=1, inplace=True)"
   ]
  },
  {
   "cell_type": "code",
   "execution_count": 15,
   "metadata": {},
   "outputs": [
    {
     "data": {
      "text/plain": [
       "[0.0]"
      ]
     },
     "execution_count": 15,
     "metadata": {},
     "output_type": "execute_result"
    }
   ],
   "source": [
    "# check energy \n",
    "energy = list(df['energy'].unique())\n",
    "energy"
   ]
  },
  {
   "cell_type": "code",
   "execution_count": 16,
   "metadata": {},
   "outputs": [],
   "source": [
    "df.drop(['energy'], axis=1, inplace=True)"
   ]
  },
  {
   "cell_type": "code",
   "execution_count": 17,
   "metadata": {},
   "outputs": [
    {
     "data": {
      "text/html": [
       "<div>\n",
       "<style scoped>\n",
       "    .dataframe tbody tr th:only-of-type {\n",
       "        vertical-align: middle;\n",
       "    }\n",
       "\n",
       "    .dataframe tbody tr th {\n",
       "        vertical-align: top;\n",
       "    }\n",
       "\n",
       "    .dataframe thead th {\n",
       "        text-align: right;\n",
       "    }\n",
       "</style>\n",
       "<table border=\"1\" class=\"dataframe\">\n",
       "  <thead>\n",
       "    <tr style=\"text-align: right;\">\n",
       "      <th></th>\n",
       "      <th>duration</th>\n",
       "      <th>end_of_fade_in</th>\n",
       "      <th>key</th>\n",
       "      <th>key_confidence</th>\n",
       "      <th>loudness</th>\n",
       "      <th>mode</th>\n",
       "      <th>mode_confidence</th>\n",
       "      <th>start_of_fade_out</th>\n",
       "      <th>tempo</th>\n",
       "      <th>time_signature</th>\n",
       "      <th>time_signature_confidence</th>\n",
       "      <th>artist_familiarity</th>\n",
       "      <th>artist_hotttnesss</th>\n",
       "      <th>song_hotttnesss</th>\n",
       "      <th>title</th>\n",
       "      <th>year</th>\n",
       "    </tr>\n",
       "  </thead>\n",
       "  <tbody>\n",
       "    <tr>\n",
       "      <th>0</th>\n",
       "      <td>252.05506</td>\n",
       "      <td>2.049</td>\n",
       "      <td>10</td>\n",
       "      <td>0.777</td>\n",
       "      <td>-4.829</td>\n",
       "      <td>0</td>\n",
       "      <td>0.688</td>\n",
       "      <td>236.635</td>\n",
       "      <td>87.002</td>\n",
       "      <td>4</td>\n",
       "      <td>0.940</td>\n",
       "      <td>0.649822</td>\n",
       "      <td>0.394032</td>\n",
       "      <td>0.542899</td>\n",
       "      <td>Silent Night</td>\n",
       "      <td>2003</td>\n",
       "    </tr>\n",
       "    <tr>\n",
       "      <th>1</th>\n",
       "      <td>156.55138</td>\n",
       "      <td>0.258</td>\n",
       "      <td>9</td>\n",
       "      <td>0.808</td>\n",
       "      <td>-10.555</td>\n",
       "      <td>1</td>\n",
       "      <td>0.355</td>\n",
       "      <td>148.660</td>\n",
       "      <td>150.778</td>\n",
       "      <td>1</td>\n",
       "      <td>0.000</td>\n",
       "      <td>0.439604</td>\n",
       "      <td>0.356992</td>\n",
       "      <td>0.299877</td>\n",
       "      <td>Tanssi vaan</td>\n",
       "      <td>1995</td>\n",
       "    </tr>\n",
       "    <tr>\n",
       "      <th>2</th>\n",
       "      <td>138.97098</td>\n",
       "      <td>0.000</td>\n",
       "      <td>7</td>\n",
       "      <td>0.418</td>\n",
       "      <td>-2.060</td>\n",
       "      <td>1</td>\n",
       "      <td>0.566</td>\n",
       "      <td>138.971</td>\n",
       "      <td>177.768</td>\n",
       "      <td>4</td>\n",
       "      <td>0.446</td>\n",
       "      <td>0.643681</td>\n",
       "      <td>0.437504</td>\n",
       "      <td>0.617871</td>\n",
       "      <td>No One Could Ever</td>\n",
       "      <td>2006</td>\n",
       "    </tr>\n",
       "    <tr>\n",
       "      <th>12</th>\n",
       "      <td>301.60934</td>\n",
       "      <td>0.000</td>\n",
       "      <td>1</td>\n",
       "      <td>0.450</td>\n",
       "      <td>-4.882</td>\n",
       "      <td>1</td>\n",
       "      <td>0.520</td>\n",
       "      <td>291.405</td>\n",
       "      <td>85.340</td>\n",
       "      <td>5</td>\n",
       "      <td>0.581</td>\n",
       "      <td>0.622005</td>\n",
       "      <td>0.451579</td>\n",
       "      <td>0.392009</td>\n",
       "      <td>Cold Beer feat. Prince Metropolitan</td>\n",
       "      <td>0</td>\n",
       "    </tr>\n",
       "    <tr>\n",
       "      <th>13</th>\n",
       "      <td>318.45832</td>\n",
       "      <td>0.502</td>\n",
       "      <td>10</td>\n",
       "      <td>0.764</td>\n",
       "      <td>-10.670</td>\n",
       "      <td>1</td>\n",
       "      <td>0.627</td>\n",
       "      <td>306.265</td>\n",
       "      <td>67.567</td>\n",
       "      <td>3</td>\n",
       "      <td>0.676</td>\n",
       "      <td>0.621826</td>\n",
       "      <td>0.406985</td>\n",
       "      <td>0.463490</td>\n",
       "      <td>Pilots</td>\n",
       "      <td>2005</td>\n",
       "    </tr>\n",
       "  </tbody>\n",
       "</table>\n",
       "</div>"
      ],
      "text/plain": [
       "     duration  end_of_fade_in  key  key_confidence  loudness  mode  \\\n",
       "0   252.05506           2.049   10           0.777    -4.829     0   \n",
       "1   156.55138           0.258    9           0.808   -10.555     1   \n",
       "2   138.97098           0.000    7           0.418    -2.060     1   \n",
       "12  301.60934           0.000    1           0.450    -4.882     1   \n",
       "13  318.45832           0.502   10           0.764   -10.670     1   \n",
       "\n",
       "    mode_confidence  start_of_fade_out    tempo  time_signature  \\\n",
       "0             0.688            236.635   87.002               4   \n",
       "1             0.355            148.660  150.778               1   \n",
       "2             0.566            138.971  177.768               4   \n",
       "12            0.520            291.405   85.340               5   \n",
       "13            0.627            306.265   67.567               3   \n",
       "\n",
       "    time_signature_confidence  artist_familiarity  artist_hotttnesss  \\\n",
       "0                       0.940            0.649822           0.394032   \n",
       "1                       0.000            0.439604           0.356992   \n",
       "2                       0.446            0.643681           0.437504   \n",
       "12                      0.581            0.622005           0.451579   \n",
       "13                      0.676            0.621826           0.406985   \n",
       "\n",
       "    song_hotttnesss                                title  year  \n",
       "0          0.542899                         Silent Night  2003  \n",
       "1          0.299877                          Tanssi vaan  1995  \n",
       "2          0.617871                    No One Could Ever  2006  \n",
       "12         0.392009  Cold Beer feat. Prince Metropolitan     0  \n",
       "13         0.463490                               Pilots  2005  "
      ]
     },
     "execution_count": 17,
     "metadata": {},
     "output_type": "execute_result"
    }
   ],
   "source": [
    "df.head()"
   ]
  },
  {
   "cell_type": "code",
   "execution_count": 18,
   "metadata": {},
   "outputs": [
    {
     "data": {
      "text/plain": [
       "False"
      ]
     },
     "execution_count": 18,
     "metadata": {},
     "output_type": "execute_result"
    }
   ],
   "source": [
    "# check for null values\n",
    "df.isnull().values.any()"
   ]
  },
  {
   "cell_type": "code",
   "execution_count": 19,
   "metadata": {},
   "outputs": [
    {
     "data": {
      "text/plain": [
       "duration                     0\n",
       "end_of_fade_in               0\n",
       "key                          0\n",
       "key_confidence               0\n",
       "loudness                     0\n",
       "mode                         0\n",
       "mode_confidence              0\n",
       "start_of_fade_out            0\n",
       "tempo                        0\n",
       "time_signature               0\n",
       "time_signature_confidence    0\n",
       "artist_familiarity           0\n",
       "artist_hotttnesss            0\n",
       "song_hotttnesss              0\n",
       "title                        0\n",
       "year                         0\n",
       "dtype: int64"
      ]
     },
     "execution_count": 19,
     "metadata": {},
     "output_type": "execute_result"
    }
   ],
   "source": [
    "# check for null values distribution\n",
    "df.isnull().sum()"
   ]
  },
  {
   "cell_type": "code",
   "execution_count": 20,
   "metadata": {},
   "outputs": [],
   "source": [
    "# replace artist_familiarity with zero\n",
    "df.fillna(value = 0, inplace = True)"
   ]
  },
  {
   "cell_type": "code",
   "execution_count": 21,
   "metadata": {},
   "outputs": [
    {
     "data": {
      "text/plain": [
       "False"
      ]
     },
     "execution_count": 21,
     "metadata": {},
     "output_type": "execute_result"
    }
   ],
   "source": [
    "# check for null values\n",
    "df.isnull().values.any()"
   ]
  },
  {
   "cell_type": "code",
   "execution_count": 22,
   "metadata": {},
   "outputs": [
    {
     "data": {
      "text/plain": [
       "array([[<AxesSubplot:title={'center':'duration'}>,\n",
       "        <AxesSubplot:title={'center':'end_of_fade_in'}>,\n",
       "        <AxesSubplot:title={'center':'key'}>,\n",
       "        <AxesSubplot:title={'center':'key_confidence'}>],\n",
       "       [<AxesSubplot:title={'center':'loudness'}>,\n",
       "        <AxesSubplot:title={'center':'mode'}>,\n",
       "        <AxesSubplot:title={'center':'mode_confidence'}>,\n",
       "        <AxesSubplot:title={'center':'start_of_fade_out'}>],\n",
       "       [<AxesSubplot:title={'center':'tempo'}>,\n",
       "        <AxesSubplot:title={'center':'time_signature'}>,\n",
       "        <AxesSubplot:title={'center':'time_signature_confidence'}>,\n",
       "        <AxesSubplot:title={'center':'artist_familiarity'}>],\n",
       "       [<AxesSubplot:title={'center':'artist_hotttnesss'}>,\n",
       "        <AxesSubplot:title={'center':'song_hotttnesss'}>,\n",
       "        <AxesSubplot:title={'center':'year'}>, <AxesSubplot:>]],\n",
       "      dtype=object)"
      ]
     },
     "execution_count": 22,
     "metadata": {},
     "output_type": "execute_result"
    },
    {
     "data": {
      "image/png": "[encoded data removed]",
      "text/plain": [
       "<Figure size 432x288 with 16 Axes>"
      ]
     },
     "metadata": {
      "needs_background": "light"
     },
     "output_type": "display_data"
    }
   ],
   "source": [
    "# check for highly skewed features\n",
    "df.hist()"
   ]
  },
  {
   "cell_type": "markdown",
   "metadata": {},
   "source": [
    "<p> It seems no highly skewed features </p>"
   ]
  },
  {
   "cell_type": "code",
   "execution_count": 23,
   "metadata": {},
   "outputs": [],
   "source": [
    "def fun(row):\n",
    "    if row['song_hotttnesss'] >= 0.5:\n",
    "        val = 1\n",
    "    else:\n",
    "        val = 0\n",
    "    return val"
   ]
  },
  {
   "cell_type": "code",
   "execution_count": 24,
   "metadata": {},
   "outputs": [],
   "source": [
    "df['is popular'] = df.apply(fun,  axis=1)"
   ]
  },
  {
   "cell_type": "code",
   "execution_count": 25,
   "metadata": {},
   "outputs": [
    {
     "data": {
      "text/html": [
       "<div>\n",
       "<style scoped>\n",
       "    .dataframe tbody tr th:only-of-type {\n",
       "        vertical-align: middle;\n",
       "    }\n",
       "\n",
       "    .dataframe tbody tr th {\n",
       "        vertical-align: top;\n",
       "    }\n",
       "\n",
       "    .dataframe thead th {\n",
       "        text-align: right;\n",
       "    }\n",
       "</style>\n",
       "<table border=\"1\" class=\"dataframe\">\n",
       "  <thead>\n",
       "    <tr style=\"text-align: right;\">\n",
       "      <th></th>\n",
       "      <th>duration</th>\n",
       "      <th>end_of_fade_in</th>\n",
       "      <th>key</th>\n",
       "      <th>key_confidence</th>\n",
       "      <th>loudness</th>\n",
       "      <th>mode</th>\n",
       "      <th>mode_confidence</th>\n",
       "      <th>start_of_fade_out</th>\n",
       "      <th>tempo</th>\n",
       "      <th>time_signature</th>\n",
       "      <th>time_signature_confidence</th>\n",
       "      <th>artist_familiarity</th>\n",
       "      <th>artist_hotttnesss</th>\n",
       "      <th>title</th>\n",
       "      <th>year</th>\n",
       "      <th>is popular</th>\n",
       "    </tr>\n",
       "  </thead>\n",
       "  <tbody>\n",
       "    <tr>\n",
       "      <th>0</th>\n",
       "      <td>252.05506</td>\n",
       "      <td>2.049</td>\n",
       "      <td>10</td>\n",
       "      <td>0.777</td>\n",
       "      <td>-4.829</td>\n",
       "      <td>0</td>\n",
       "      <td>0.688</td>\n",
       "      <td>236.635</td>\n",
       "      <td>87.002</td>\n",
       "      <td>4</td>\n",
       "      <td>0.940</td>\n",
       "      <td>0.649822</td>\n",
       "      <td>0.394032</td>\n",
       "      <td>Silent Night</td>\n",
       "      <td>2003</td>\n",
       "      <td>1</td>\n",
       "    </tr>\n",
       "    <tr>\n",
       "      <th>1</th>\n",
       "      <td>156.55138</td>\n",
       "      <td>0.258</td>\n",
       "      <td>9</td>\n",
       "      <td>0.808</td>\n",
       "      <td>-10.555</td>\n",
       "      <td>1</td>\n",
       "      <td>0.355</td>\n",
       "      <td>148.660</td>\n",
       "      <td>150.778</td>\n",
       "      <td>1</td>\n",
       "      <td>0.000</td>\n",
       "      <td>0.439604</td>\n",
       "      <td>0.356992</td>\n",
       "      <td>Tanssi vaan</td>\n",
       "      <td>1995</td>\n",
       "      <td>0</td>\n",
       "    </tr>\n",
       "    <tr>\n",
       "      <th>2</th>\n",
       "      <td>138.97098</td>\n",
       "      <td>0.000</td>\n",
       "      <td>7</td>\n",
       "      <td>0.418</td>\n",
       "      <td>-2.060</td>\n",
       "      <td>1</td>\n",
       "      <td>0.566</td>\n",
       "      <td>138.971</td>\n",
       "      <td>177.768</td>\n",
       "      <td>4</td>\n",
       "      <td>0.446</td>\n",
       "      <td>0.643681</td>\n",
       "      <td>0.437504</td>\n",
       "      <td>No One Could Ever</td>\n",
       "      <td>2006</td>\n",
       "      <td>1</td>\n",
       "    </tr>\n",
       "    <tr>\n",
       "      <th>12</th>\n",
       "      <td>301.60934</td>\n",
       "      <td>0.000</td>\n",
       "      <td>1</td>\n",
       "      <td>0.450</td>\n",
       "      <td>-4.882</td>\n",
       "      <td>1</td>\n",
       "      <td>0.520</td>\n",
       "      <td>291.405</td>\n",
       "      <td>85.340</td>\n",
       "      <td>5</td>\n",
       "      <td>0.581</td>\n",
       "      <td>0.622005</td>\n",
       "      <td>0.451579</td>\n",
       "      <td>Cold Beer feat. Prince Metropolitan</td>\n",
       "      <td>0</td>\n",
       "      <td>0</td>\n",
       "    </tr>\n",
       "    <tr>\n",
       "      <th>13</th>\n",
       "      <td>318.45832</td>\n",
       "      <td>0.502</td>\n",
       "      <td>10</td>\n",
       "      <td>0.764</td>\n",
       "      <td>-10.670</td>\n",
       "      <td>1</td>\n",
       "      <td>0.627</td>\n",
       "      <td>306.265</td>\n",
       "      <td>67.567</td>\n",
       "      <td>3</td>\n",
       "      <td>0.676</td>\n",
       "      <td>0.621826</td>\n",
       "      <td>0.406985</td>\n",
       "      <td>Pilots</td>\n",
       "      <td>2005</td>\n",
       "      <td>0</td>\n",
       "    </tr>\n",
       "  </tbody>\n",
       "</table>\n",
       "</div>"
      ],
      "text/plain": [
       "     duration  end_of_fade_in  key  key_confidence  loudness  mode  \\\n",
       "0   252.05506           2.049   10           0.777    -4.829     0   \n",
       "1   156.55138           0.258    9           0.808   -10.555     1   \n",
       "2   138.97098           0.000    7           0.418    -2.060     1   \n",
       "12  301.60934           0.000    1           0.450    -4.882     1   \n",
       "13  318.45832           0.502   10           0.764   -10.670     1   \n",
       "\n",
       "    mode_confidence  start_of_fade_out    tempo  time_signature  \\\n",
       "0             0.688            236.635   87.002               4   \n",
       "1             0.355            148.660  150.778               1   \n",
       "2             0.566            138.971  177.768               4   \n",
       "12            0.520            291.405   85.340               5   \n",
       "13            0.627            306.265   67.567               3   \n",
       "\n",
       "    time_signature_confidence  artist_familiarity  artist_hotttnesss  \\\n",
       "0                       0.940            0.649822           0.394032   \n",
       "1                       0.000            0.439604           0.356992   \n",
       "2                       0.446            0.643681           0.437504   \n",
       "12                      0.581            0.622005           0.451579   \n",
       "13                      0.676            0.621826           0.406985   \n",
       "\n",
       "                                  title  year  is popular  \n",
       "0                          Silent Night  2003           1  \n",
       "1                           Tanssi vaan  1995           0  \n",
       "2                     No One Could Ever  2006           1  \n",
       "12  Cold Beer feat. Prince Metropolitan     0           0  \n",
       "13                               Pilots  2005           0  "
      ]
     },
     "execution_count": 25,
     "metadata": {},
     "output_type": "execute_result"
    }
   ],
   "source": [
    "df.drop(['song_hotttnesss'], axis=1, inplace=True)\n",
    "df.head()"
   ]
  },
  {
   "cell_type": "code",
   "execution_count": 26,
   "metadata": {},
   "outputs": [
    {
     "data": {
      "text/plain": [
       "duration                     0\n",
       "end_of_fade_in               0\n",
       "key                          0\n",
       "key_confidence               0\n",
       "loudness                     0\n",
       "mode                         0\n",
       "mode_confidence              0\n",
       "start_of_fade_out            0\n",
       "tempo                        0\n",
       "time_signature               0\n",
       "time_signature_confidence    0\n",
       "artist_familiarity           0\n",
       "artist_hotttnesss            0\n",
       "title                        0\n",
       "year                         0\n",
       "is popular                   0\n",
       "dtype: int64"
      ]
     },
     "execution_count": 26,
     "metadata": {},
     "output_type": "execute_result"
    }
   ],
   "source": [
    "# check for null values distribution\n",
    "df.isnull().sum()"
   ]
  },
  {
   "cell_type": "code",
   "execution_count": 27,
   "metadata": {},
   "outputs": [],
   "source": [
    "# 1 - popular\n",
    "# 0 - not popular"
   ]
  },
  {
   "cell_type": "code",
   "execution_count": 28,
   "metadata": {},
   "outputs": [
    {
     "data": {
      "text/plain": [
       "(10000, 16)"
      ]
     },
     "execution_count": 28,
     "metadata": {},
     "output_type": "execute_result"
    }
   ],
   "source": [
    "df.shape"
   ]
  },
  {
   "cell_type": "code",
   "execution_count": 29,
   "metadata": {},
   "outputs": [
    {
     "data": {
      "text/plain": [
       "array([[<AxesSubplot:title={'center':'duration'}>,\n",
       "        <AxesSubplot:title={'center':'end_of_fade_in'}>,\n",
       "        <AxesSubplot:title={'center':'key'}>,\n",
       "        <AxesSubplot:title={'center':'key_confidence'}>],\n",
       "       [<AxesSubplot:title={'center':'loudness'}>,\n",
       "        <AxesSubplot:title={'center':'mode'}>,\n",
       "        <AxesSubplot:title={'center':'mode_confidence'}>,\n",
       "        <AxesSubplot:title={'center':'start_of_fade_out'}>],\n",
       "       [<AxesSubplot:title={'center':'tempo'}>,\n",
       "        <AxesSubplot:title={'center':'time_signature'}>,\n",
       "        <AxesSubplot:title={'center':'time_signature_confidence'}>,\n",
       "        <AxesSubplot:title={'center':'artist_familiarity'}>],\n",
       "       [<AxesSubplot:title={'center':'artist_hotttnesss'}>,\n",
       "        <AxesSubplot:title={'center':'year'}>,\n",
       "        <AxesSubplot:title={'center':'is popular'}>, <AxesSubplot:>]],\n",
       "      dtype=object)"
      ]
     },
     "execution_count": 29,
     "metadata": {},
     "output_type": "execute_result"
    },
    {
     "data": {
      "image/png": "[encoded data removed]",
      "text/plain": [
       "<Figure size 1440x1440 with 16 Axes>"
      ]
     },
     "metadata": {
      "needs_background": "light"
     },
     "output_type": "display_data"
    }
   ],
   "source": [
    "# check for normalized features \n",
    "df.hist(figsize=(20, 20))"
   ]
  },
  {
   "cell_type": "code",
   "execution_count": 30,
   "metadata": {},
   "outputs": [
    {
     "data": {
      "image/png": "[encoded data removed]",
      "text/plain": [
       "<Figure size 720x720 with 2 Axes>"
      ]
     },
     "metadata": {
      "needs_background": "light"
     },
     "output_type": "display_data"
    }
   ],
   "source": [
    "plt.figure(figsize = (10,10))\n",
    "sns.heatmap(df.corr());"
   ]
  },
  {
   "cell_type": "code",
   "execution_count": 31,
   "metadata": {},
   "outputs": [
    {
     "name": "stdout",
     "output_type": "stream",
     "text": [
      "                           duration  end_of_fade_in       key  key_confidence  \\\n",
      "duration                   1.000000        0.120059  0.007322        0.017899   \n",
      "end_of_fade_in             0.120059        1.000000  0.005700       -0.004910   \n",
      "key                        0.007322        0.005700  1.000000       -0.039823   \n",
      "key_confidence             0.017899       -0.004910 -0.039823        1.000000   \n",
      "loudness                  -0.008633       -0.143356  0.016085        0.005750   \n",
      "mode                      -0.064655       -0.021365 -0.193073        0.122022   \n",
      "mode_confidence           -0.008030       -0.000917 -0.032889        0.773517   \n",
      "start_of_fade_out          0.998298        0.113139  0.006072        0.014793   \n",
      "tempo                     -0.025174       -0.029772  0.023308        0.027582   \n",
      "time_signature             0.110986        0.007108  0.015351       -0.073994   \n",
      "time_signature_confidence  0.113472        0.030331 -0.000106       -0.033643   \n",
      "artist_familiarity        -0.017077        0.012495 -0.001186       -0.000483   \n",
      "artist_hotttnesss         -0.000245        0.024599  0.002101        0.007646   \n",
      "year                      -0.032827        0.015062 -0.000195       -0.013744   \n",
      "is popular                -0.010752        0.013108 -0.012946       -0.027347   \n",
      "\n",
      "                           loudness      mode  mode_confidence  \\\n",
      "duration                  -0.008633 -0.064655        -0.008030   \n",
      "end_of_fade_in            -0.143356 -0.021365        -0.000917   \n",
      "key                        0.016085 -0.193073        -0.032889   \n",
      "key_confidence             0.005750  0.122022         0.773517   \n",
      "loudness                   1.000000 -0.021868        -0.013728   \n",
      "mode                      -0.021868  1.000000         0.116877   \n",
      "mode_confidence           -0.013728  0.116877         1.000000   \n",
      "start_of_fade_out         -0.000863 -0.064488        -0.012975   \n",
      "tempo                      0.158110 -0.021749        -0.013838   \n",
      "time_signature             0.090990 -0.050863        -0.032145   \n",
      "time_signature_confidence  0.016391 -0.027987         0.004737   \n",
      "artist_familiarity         0.156883 -0.010928         0.002738   \n",
      "artist_hotttnesss          0.103404 -0.002326         0.012725   \n",
      "year                       0.075346 -0.013011         0.009835   \n",
      "is popular                 0.130111 -0.005440        -0.011527   \n",
      "\n",
      "                           start_of_fade_out     tempo  time_signature  \\\n",
      "duration                            0.998298 -0.025174        0.110986   \n",
      "end_of_fade_in                      0.113139 -0.029772        0.007108   \n",
      "key                                 0.006072  0.023308        0.015351   \n",
      "key_confidence                      0.014793  0.027582       -0.073994   \n",
      "loudness                           -0.000863  0.158110        0.090990   \n",
      "mode                               -0.064488 -0.021749       -0.050863   \n",
      "mode_confidence                    -0.012975 -0.013838       -0.032145   \n",
      "start_of_fade_out                   1.000000 -0.023745        0.108011   \n",
      "tempo                              -0.023745  1.000000        0.037897   \n",
      "time_signature                      0.108011  0.037897        1.000000   \n",
      "time_signature_confidence           0.110530 -0.160977        0.296104   \n",
      "artist_familiarity                 -0.017464  0.026717        0.023599   \n",
      "artist_hotttnesss                  -0.001178  0.007403        0.026926   \n",
      "year                               -0.035084  0.007671        0.008512   \n",
      "is popular                         -0.012099  0.029376        0.017119   \n",
      "\n",
      "                           time_signature_confidence  artist_familiarity  \\\n",
      "duration                                    0.113472           -0.017077   \n",
      "end_of_fade_in                              0.030331            0.012495   \n",
      "key                                        -0.000106           -0.001186   \n",
      "key_confidence                             -0.033643           -0.000483   \n",
      "loudness                                    0.016391            0.156883   \n",
      "mode                                       -0.027987           -0.010928   \n",
      "mode_confidence                             0.004737            0.002738   \n",
      "start_of_fade_out                           0.110530           -0.017464   \n",
      "tempo                                      -0.160977            0.026717   \n",
      "time_signature                              0.296104            0.023599   \n",
      "time_signature_confidence                   1.000000            0.028647   \n",
      "artist_familiarity                          0.028647            1.000000   \n",
      "artist_hotttnesss                           0.029039            0.711101   \n",
      "year                                        0.010807            0.260375   \n",
      "is popular                                  0.012420            0.420527   \n",
      "\n",
      "                           artist_hotttnesss      year  is popular  \n",
      "duration                           -0.000245 -0.032827   -0.010752  \n",
      "end_of_fade_in                      0.024599  0.015062    0.013108  \n",
      "key                                 0.002101 -0.000195   -0.012946  \n",
      "key_confidence                      0.007646 -0.013744   -0.027347  \n",
      "loudness                            0.103404  0.075346    0.130111  \n",
      "mode                               -0.002326 -0.013011   -0.005440  \n",
      "mode_confidence                     0.012725  0.009835   -0.011527  \n",
      "start_of_fade_out                  -0.001178 -0.035084   -0.012099  \n",
      "tempo                               0.007403  0.007671    0.029376  \n",
      "time_signature                      0.026926  0.008512    0.017119  \n",
      "time_signature_confidence           0.029039  0.010807    0.012420  \n",
      "artist_familiarity                  0.711101  0.260375    0.420527  \n",
      "artist_hotttnesss                   1.000000  0.248948    0.392556  \n",
      "year                                0.248948  1.000000    0.290727  \n",
      "is popular                          0.392556  0.290727    1.000000  \n"
     ]
    }
   ],
   "source": [
    "print(df.corr())"
   ]
  },
  {
   "cell_type": "markdown",
   "metadata": {},
   "source": [
    "<p> It seems artist_familiarity and artist_hotttnesss have strong correlation </p>"
   ]
  },
  {
   "cell_type": "code",
   "execution_count": 32,
   "metadata": {},
   "outputs": [
    {
     "data": {
      "text/html": [
       "<div>\n",
       "<style scoped>\n",
       "    .dataframe tbody tr th:only-of-type {\n",
       "        vertical-align: middle;\n",
       "    }\n",
       "\n",
       "    .dataframe tbody tr th {\n",
       "        vertical-align: top;\n",
       "    }\n",
       "\n",
       "    .dataframe thead th {\n",
       "        text-align: right;\n",
       "    }\n",
       "</style>\n",
       "<table border=\"1\" class=\"dataframe\">\n",
       "  <thead>\n",
       "    <tr style=\"text-align: right;\">\n",
       "      <th></th>\n",
       "      <th>duration</th>\n",
       "      <th>end_of_fade_in</th>\n",
       "      <th>key</th>\n",
       "      <th>key_confidence</th>\n",
       "      <th>loudness</th>\n",
       "      <th>mode</th>\n",
       "      <th>mode_confidence</th>\n",
       "      <th>start_of_fade_out</th>\n",
       "      <th>tempo</th>\n",
       "      <th>time_signature</th>\n",
       "      <th>time_signature_confidence</th>\n",
       "      <th>artist_familiarity</th>\n",
       "      <th>artist_hotttnesss</th>\n",
       "      <th>title</th>\n",
       "      <th>year</th>\n",
       "      <th>is popular</th>\n",
       "    </tr>\n",
       "  </thead>\n",
       "  <tbody>\n",
       "    <tr>\n",
       "      <th>0</th>\n",
       "      <td>252.05506</td>\n",
       "      <td>2.049</td>\n",
       "      <td>10</td>\n",
       "      <td>0.777</td>\n",
       "      <td>-4.829</td>\n",
       "      <td>0</td>\n",
       "      <td>0.688</td>\n",
       "      <td>236.635</td>\n",
       "      <td>87.002</td>\n",
       "      <td>4</td>\n",
       "      <td>0.940</td>\n",
       "      <td>0.649822</td>\n",
       "      <td>0.394032</td>\n",
       "      <td>Silent Night</td>\n",
       "      <td>2003</td>\n",
       "      <td>1</td>\n",
       "    </tr>\n",
       "    <tr>\n",
       "      <th>1</th>\n",
       "      <td>156.55138</td>\n",
       "      <td>0.258</td>\n",
       "      <td>9</td>\n",
       "      <td>0.808</td>\n",
       "      <td>-10.555</td>\n",
       "      <td>1</td>\n",
       "      <td>0.355</td>\n",
       "      <td>148.660</td>\n",
       "      <td>150.778</td>\n",
       "      <td>1</td>\n",
       "      <td>0.000</td>\n",
       "      <td>0.439604</td>\n",
       "      <td>0.356992</td>\n",
       "      <td>Tanssi vaan</td>\n",
       "      <td>1995</td>\n",
       "      <td>0</td>\n",
       "    </tr>\n",
       "    <tr>\n",
       "      <th>2</th>\n",
       "      <td>138.97098</td>\n",
       "      <td>0.000</td>\n",
       "      <td>7</td>\n",
       "      <td>0.418</td>\n",
       "      <td>-2.060</td>\n",
       "      <td>1</td>\n",
       "      <td>0.566</td>\n",
       "      <td>138.971</td>\n",
       "      <td>177.768</td>\n",
       "      <td>4</td>\n",
       "      <td>0.446</td>\n",
       "      <td>0.643681</td>\n",
       "      <td>0.437504</td>\n",
       "      <td>No One Could Ever</td>\n",
       "      <td>2006</td>\n",
       "      <td>1</td>\n",
       "    </tr>\n",
       "    <tr>\n",
       "      <th>12</th>\n",
       "      <td>301.60934</td>\n",
       "      <td>0.000</td>\n",
       "      <td>1</td>\n",
       "      <td>0.450</td>\n",
       "      <td>-4.882</td>\n",
       "      <td>1</td>\n",
       "      <td>0.520</td>\n",
       "      <td>291.405</td>\n",
       "      <td>85.340</td>\n",
       "      <td>5</td>\n",
       "      <td>0.581</td>\n",
       "      <td>0.622005</td>\n",
       "      <td>0.451579</td>\n",
       "      <td>Cold Beer feat. Prince Metropolitan</td>\n",
       "      <td>0</td>\n",
       "      <td>0</td>\n",
       "    </tr>\n",
       "    <tr>\n",
       "      <th>13</th>\n",
       "      <td>318.45832</td>\n",
       "      <td>0.502</td>\n",
       "      <td>10</td>\n",
       "      <td>0.764</td>\n",
       "      <td>-10.670</td>\n",
       "      <td>1</td>\n",
       "      <td>0.627</td>\n",
       "      <td>306.265</td>\n",
       "      <td>67.567</td>\n",
       "      <td>3</td>\n",
       "      <td>0.676</td>\n",
       "      <td>0.621826</td>\n",
       "      <td>0.406985</td>\n",
       "      <td>Pilots</td>\n",
       "      <td>2005</td>\n",
       "      <td>0</td>\n",
       "    </tr>\n",
       "  </tbody>\n",
       "</table>\n",
       "</div>"
      ],
      "text/plain": [
       "     duration  end_of_fade_in  key  key_confidence  loudness  mode  \\\n",
       "0   252.05506           2.049   10           0.777    -4.829     0   \n",
       "1   156.55138           0.258    9           0.808   -10.555     1   \n",
       "2   138.97098           0.000    7           0.418    -2.060     1   \n",
       "12  301.60934           0.000    1           0.450    -4.882     1   \n",
       "13  318.45832           0.502   10           0.764   -10.670     1   \n",
       "\n",
       "    mode_confidence  start_of_fade_out    tempo  time_signature  \\\n",
       "0             0.688            236.635   87.002               4   \n",
       "1             0.355            148.660  150.778               1   \n",
       "2             0.566            138.971  177.768               4   \n",
       "12            0.520            291.405   85.340               5   \n",
       "13            0.627            306.265   67.567               3   \n",
       "\n",
       "    time_signature_confidence  artist_familiarity  artist_hotttnesss  \\\n",
       "0                       0.940            0.649822           0.394032   \n",
       "1                       0.000            0.439604           0.356992   \n",
       "2                       0.446            0.643681           0.437504   \n",
       "12                      0.581            0.622005           0.451579   \n",
       "13                      0.676            0.621826           0.406985   \n",
       "\n",
       "                                  title  year  is popular  \n",
       "0                          Silent Night  2003           1  \n",
       "1                           Tanssi vaan  1995           0  \n",
       "2                     No One Could Ever  2006           1  \n",
       "12  Cold Beer feat. Prince Metropolitan     0           0  \n",
       "13                               Pilots  2005           0  "
      ]
     },
     "execution_count": 32,
     "metadata": {},
     "output_type": "execute_result"
    }
   ],
   "source": [
    "df.head()"
   ]
  },
  {
   "cell_type": "code",
   "execution_count": 33,
   "metadata": {},
   "outputs": [],
   "source": [
    "df.drop(['title'], axis=1, inplace=True)"
   ]
  },
  {
   "cell_type": "code",
   "execution_count": 34,
   "metadata": {},
   "outputs": [
    {
     "data": {
      "text/plain": [
       "duration                     0\n",
       "end_of_fade_in               0\n",
       "key                          0\n",
       "key_confidence               0\n",
       "loudness                     0\n",
       "mode                         0\n",
       "mode_confidence              0\n",
       "start_of_fade_out            0\n",
       "tempo                        0\n",
       "time_signature               0\n",
       "time_signature_confidence    0\n",
       "artist_familiarity           0\n",
       "artist_hotttnesss            0\n",
       "year                         0\n",
       "is popular                   0\n",
       "dtype: int64"
      ]
     },
     "execution_count": 34,
     "metadata": {},
     "output_type": "execute_result"
    }
   ],
   "source": [
    "# check for null values distribution\n",
    "df.isnull().sum()"
   ]
  },
  {
   "cell_type": "code",
   "execution_count": 35,
   "metadata": {},
   "outputs": [],
   "source": [
    "# split X and y\n",
    "X = df.drop(['is popular'], axis=1)\n",
    "y = df[['is popular']]"
   ]
  },
  {
   "cell_type": "code",
   "execution_count": 36,
   "metadata": {},
   "outputs": [
    {
     "data": {
      "text/plain": [
       "<AxesSubplot:title={'center':'Check for class imbalance'}>"
      ]
     },
     "execution_count": 36,
     "metadata": {},
     "output_type": "execute_result"
    },
    {
     "data": {
      "image/png": "[encoded data removed]",
      "text/plain": [
       "<Figure size 432x288 with 1 Axes>"
      ]
     },
     "metadata": {
      "needs_background": "light"
     },
     "output_type": "display_data"
    }
   ],
   "source": [
    "df['is popular'].value_counts().plot(kind='bar', title='Check for class imbalance')"
   ]
  },
  {
   "cell_type": "code",
   "execution_count": 37,
   "metadata": {},
   "outputs": [
    {
     "data": {
      "text/plain": [
       "False"
      ]
     },
     "execution_count": 37,
     "metadata": {},
     "output_type": "execute_result"
    }
   ],
   "source": [
    "# check for null values\n",
    "y.isnull().values.any()"
   ]
  },
  {
   "cell_type": "code",
   "execution_count": 38,
   "metadata": {},
   "outputs": [],
   "source": [
    "from imblearn.over_sampling import ADASYN\n",
    "\n",
    "# apply ADASYN to resolve class imbalance\n",
    "ada = ADASYN()\n",
    "X_ada ,y_ada = ada.fit_resample(X, y)"
   ]
  },
  {
   "cell_type": "code",
   "execution_count": 39,
   "metadata": {},
   "outputs": [
    {
     "data": {
      "text/plain": [
       "<AxesSubplot:title={'center':'Check for class imbalance'}>"
      ]
     },
     "execution_count": 39,
     "metadata": {},
     "output_type": "execute_result"
    },
    {
     "data": {
      "image/png": "[encoded data removed]",
      "text/plain": [
       "<Figure size 432x288 with 1 Axes>"
      ]
     },
     "metadata": {
      "needs_background": "light"
     },
     "output_type": "display_data"
    }
   ],
   "source": [
    "y_ada['is popular'].value_counts().plot(kind='bar', title='Check for class imbalance')"
   ]
  },
  {
   "cell_type": "code",
   "execution_count": 40,
   "metadata": {},
   "outputs": [
    {
     "data": {
      "text/html": [
       "<div>\n",
       "<style scoped>\n",
       "    .dataframe tbody tr th:only-of-type {\n",
       "        vertical-align: middle;\n",
       "    }\n",
       "\n",
       "    .dataframe tbody tr th {\n",
       "        vertical-align: top;\n",
       "    }\n",
       "\n",
       "    .dataframe thead th {\n",
       "        text-align: right;\n",
       "    }\n",
       "</style>\n",
       "<table border=\"1\" class=\"dataframe\">\n",
       "  <thead>\n",
       "    <tr style=\"text-align: right;\">\n",
       "      <th></th>\n",
       "      <th>duration</th>\n",
       "      <th>end_of_fade_in</th>\n",
       "      <th>key</th>\n",
       "      <th>key_confidence</th>\n",
       "      <th>loudness</th>\n",
       "      <th>mode</th>\n",
       "      <th>mode_confidence</th>\n",
       "      <th>start_of_fade_out</th>\n",
       "      <th>tempo</th>\n",
       "      <th>time_signature</th>\n",
       "      <th>time_signature_confidence</th>\n",
       "      <th>artist_familiarity</th>\n",
       "      <th>artist_hotttnesss</th>\n",
       "      <th>year</th>\n",
       "    </tr>\n",
       "  </thead>\n",
       "  <tbody>\n",
       "    <tr>\n",
       "      <th>0</th>\n",
       "      <td>241.135870</td>\n",
       "      <td>3.349000</td>\n",
       "      <td>9</td>\n",
       "      <td>0.016000</td>\n",
       "      <td>-14.052000</td>\n",
       "      <td>0</td>\n",
       "      <td>0.350000</td>\n",
       "      <td>236.048000</td>\n",
       "      <td>137.830000</td>\n",
       "      <td>4</td>\n",
       "      <td>0.000000</td>\n",
       "      <td>0.535360</td>\n",
       "      <td>0.388341</td>\n",
       "      <td>1980</td>\n",
       "    </tr>\n",
       "    <tr>\n",
       "      <th>1</th>\n",
       "      <td>200.733099</td>\n",
       "      <td>0.033712</td>\n",
       "      <td>4</td>\n",
       "      <td>0.528773</td>\n",
       "      <td>-4.182173</td>\n",
       "      <td>0</td>\n",
       "      <td>0.574539</td>\n",
       "      <td>185.671688</td>\n",
       "      <td>94.589956</td>\n",
       "      <td>4</td>\n",
       "      <td>0.836665</td>\n",
       "      <td>0.596795</td>\n",
       "      <td>0.439655</td>\n",
       "      <td>2005</td>\n",
       "    </tr>\n",
       "    <tr>\n",
       "      <th>2</th>\n",
       "      <td>305.449340</td>\n",
       "      <td>2.252000</td>\n",
       "      <td>0</td>\n",
       "      <td>0.000000</td>\n",
       "      <td>-22.013000</td>\n",
       "      <td>1</td>\n",
       "      <td>0.000000</td>\n",
       "      <td>285.832000</td>\n",
       "      <td>96.764000</td>\n",
       "      <td>5</td>\n",
       "      <td>0.402000</td>\n",
       "      <td>0.565165</td>\n",
       "      <td>0.403881</td>\n",
       "      <td>2001</td>\n",
       "    </tr>\n",
       "    <tr>\n",
       "      <th>3</th>\n",
       "      <td>343.849340</td>\n",
       "      <td>0.000000</td>\n",
       "      <td>9</td>\n",
       "      <td>0.553000</td>\n",
       "      <td>-8.767000</td>\n",
       "      <td>1</td>\n",
       "      <td>0.499000</td>\n",
       "      <td>316.923000</td>\n",
       "      <td>100.968000</td>\n",
       "      <td>4</td>\n",
       "      <td>0.377000</td>\n",
       "      <td>0.474335</td>\n",
       "      <td>0.000000</td>\n",
       "      <td>2003</td>\n",
       "    </tr>\n",
       "    <tr>\n",
       "      <th>4</th>\n",
       "      <td>229.197910</td>\n",
       "      <td>1.437000</td>\n",
       "      <td>1</td>\n",
       "      <td>0.871000</td>\n",
       "      <td>-14.662000</td>\n",
       "      <td>1</td>\n",
       "      <td>0.736000</td>\n",
       "      <td>202.908000</td>\n",
       "      <td>96.817000</td>\n",
       "      <td>4</td>\n",
       "      <td>0.715000</td>\n",
       "      <td>0.483156</td>\n",
       "      <td>0.309128</td>\n",
       "      <td>0</td>\n",
       "    </tr>\n",
       "  </tbody>\n",
       "</table>\n",
       "</div>"
      ],
      "text/plain": [
       "     duration  end_of_fade_in  key  key_confidence   loudness  mode  \\\n",
       "0  241.135870        3.349000    9        0.016000 -14.052000     0   \n",
       "1  200.733099        0.033712    4        0.528773  -4.182173     0   \n",
       "2  305.449340        2.252000    0        0.000000 -22.013000     1   \n",
       "3  343.849340        0.000000    9        0.553000  -8.767000     1   \n",
       "4  229.197910        1.437000    1        0.871000 -14.662000     1   \n",
       "\n",
       "   mode_confidence  start_of_fade_out       tempo  time_signature  \\\n",
       "0         0.350000         236.048000  137.830000               4   \n",
       "1         0.574539         185.671688   94.589956               4   \n",
       "2         0.000000         285.832000   96.764000               5   \n",
       "3         0.499000         316.923000  100.968000               4   \n",
       "4         0.736000         202.908000   96.817000               4   \n",
       "\n",
       "   time_signature_confidence  artist_familiarity  artist_hotttnesss  year  \n",
       "0                   0.000000            0.535360           0.388341  1980  \n",
       "1                   0.836665            0.596795           0.439655  2005  \n",
       "2                   0.402000            0.565165           0.403881  2001  \n",
       "3                   0.377000            0.474335           0.000000  2003  \n",
       "4                   0.715000            0.483156           0.309128     0  "
      ]
     },
     "execution_count": 40,
     "metadata": {},
     "output_type": "execute_result"
    }
   ],
   "source": [
    "# spliting dataset\n",
    "X_train,X_test,y_train,y_test = train_test_split(X_ada, y_ada, test_size=0.2,random_state = 101)\n",
    "\n",
    "# reset indexes\n",
    "X_train = X_train.reset_index(drop=True)\n",
    "X_test = X_test.reset_index(drop=True)\n",
    "y_train = y_train.reset_index(drop=True)\n",
    "y_test = y_test.reset_index(drop=True)\n",
    "\n",
    "X_train.head(5)"
   ]
  },
  {
   "cell_type": "code",
   "execution_count": 41,
   "metadata": {},
   "outputs": [
    {
     "name": "stdout",
     "output_type": "stream",
     "text": [
      "X_train shape = (11227, 14), X_test shape = (2807, 14), y_train shape = (11227, 1), y_test shape = (2807, 1)\n"
     ]
    }
   ],
   "source": [
    "print(f'X_train shape = {X_train.shape}, X_test shape = {X_test.shape}, y_train shape = {y_train.shape}, y_test shape = {y_test.shape}')"
   ]
  },
  {
   "cell_type": "code",
   "execution_count": 42,
   "metadata": {},
   "outputs": [
    {
     "name": "stdout",
     "output_type": "stream",
     "text": [
      "[0.05801736 0.0542846  0.05917753 0.05917768 0.06411135 0.01811691\n",
      " 0.05674962 0.05785348 0.06106829 0.03774426 0.06169197 0.16053846\n",
      " 0.14597213 0.10549637]\n"
     ]
    },
    {
     "data": {
      "image/png": "[encoded data removed]",
      "text/plain": [
       "<Figure size 432x288 with 1 Axes>"
      ]
     },
     "metadata": {
      "needs_background": "light"
     },
     "output_type": "display_data"
    }
   ],
   "source": [
    "model = ExtraTreesClassifier()\n",
    "model.fit(X_ada, y_ada)\n",
    "print(model.feature_importances_) # use inbuilt class feature_importances of tree based regressors\n",
    "# plot graph of feature importances for better visualization\n",
    "feat_importances = pd.Series(model.feature_importances_, index=X.columns)\n",
    "feat_importances.nlargest(10).plot(kind='barh')\n",
    "plt.show()"
   ]
  },
  {
   "cell_type": "markdown",
   "metadata": {},
   "source": [
    "### 1. Gradient Boosting Machine"
   ]
  },
  {
   "cell_type": "code",
   "execution_count": 43,
   "metadata": {},
   "outputs": [
    {
     "name": "stdout",
     "output_type": "stream",
     "text": [
      "Parameters currently in use:\n",
      "\n",
      "{'ccp_alpha': 0.0,\n",
      " 'criterion': 'friedman_mse',\n",
      " 'init': None,\n",
      " 'learning_rate': 0.1,\n",
      " 'loss': 'deviance',\n",
      " 'max_depth': 3,\n",
      " 'max_features': None,\n",
      " 'max_leaf_nodes': None,\n",
      " 'min_impurity_decrease': 0.0,\n",
      " 'min_samples_leaf': 1,\n",
      " 'min_samples_split': 2,\n",
      " 'min_weight_fraction_leaf': 0.0,\n",
      " 'n_estimators': 100,\n",
      " 'n_iter_no_change': None,\n",
      " 'random_state': 8,\n",
      " 'subsample': 1.0,\n",
      " 'tol': 0.0001,\n",
      " 'validation_fraction': 0.1,\n",
      " 'verbose': 0,\n",
      " 'warm_start': False}\n"
     ]
    }
   ],
   "source": [
    "gb_0 = GradientBoostingClassifier(random_state = 8)\n",
    "\n",
    "print('Parameters currently in use:\\n')\n",
    "pprint(gb_0.get_params())"
   ]
  },
  {
   "cell_type": "markdown",
   "metadata": {},
   "source": [
    "We'll tune the following ones:\n",
    "\n",
    "Tree-related hyperparameters:\n",
    "* `n_estimators` = number of trees in the forest.\n",
    "* `max_features` = max number of features considered for splitting a node\n",
    "* `max_depth` = max number of levels in each decision tree\n",
    "* `min_samples_split` = min number of data points placed in a node before the node is split\n",
    "* `min_samples_leaf` = min number of data points allowed in a leaf node\n",
    "\n",
    "Boosting-related hyperparameters:\n",
    "* `learning_rate`= learning rate shrinks the contribution of each tree by learning_rate.\n",
    "* `subsample`= the fraction of samples to be used for fitting the individual base learners."
   ]
  },
  {
   "cell_type": "code",
   "execution_count": 44,
   "metadata": {},
   "outputs": [
    {
     "name": "stdout",
     "output_type": "stream",
     "text": [
      "{'learning_rate': [0.1, 0.5],\n",
      " 'max_depth': [10, 30, 50, None],\n",
      " 'max_features': ['auto', 'sqrt'],\n",
      " 'min_samples_leaf': [1, 2, 4, 6],\n",
      " 'min_samples_split': [10, 30, 50],\n",
      " 'n_estimators': [10, 100, 200],\n",
      " 'subsample': [0.5, 1.0]}\n"
     ]
    }
   ],
   "source": [
    "# n_estimators\n",
    "n_estimators = [10, 100, 200]\n",
    "\n",
    "# max_features\n",
    "max_features = ['auto', 'sqrt']\n",
    "\n",
    "# max_depth\n",
    "max_depth = [10, 30, 50]\n",
    "max_depth.append(None)\n",
    "\n",
    "# min_samples_split\n",
    "min_samples_split = [10, 30, 50]\n",
    "\n",
    "# min_samples_leaf\n",
    "min_samples_leaf = [1, 2, 4, 6]\n",
    "\n",
    "# learning rate\n",
    "learning_rate = [.1, .5]\n",
    "\n",
    "# subsample\n",
    "subsample = [.5, 1.]\n",
    "\n",
    "# Create the random grid\n",
    "random_grid = {'n_estimators': n_estimators,\n",
    "               'max_features': max_features,\n",
    "               'max_depth': max_depth,\n",
    "               'min_samples_split': min_samples_split,\n",
    "               'min_samples_leaf': min_samples_leaf,\n",
    "               'learning_rate': learning_rate,\n",
    "               'subsample': subsample}\n",
    "\n",
    "pprint(random_grid)"
   ]
  },
  {
   "cell_type": "code",
   "execution_count": 45,
   "metadata": {},
   "outputs": [
    {
     "name": "stdout",
     "output_type": "stream",
     "text": [
      "Fitting 3 folds for each of 3 candidates, totalling 9 fits\n"
     ]
    },
    {
     "data": {
      "text/plain": [
       "RandomizedSearchCV(cv=3, estimator=GradientBoostingClassifier(random_state=8),\n",
       "                   n_iter=3,\n",
       "                   param_distributions={'learning_rate': [0.1, 0.5],\n",
       "                                        'max_depth': [10, 30, 50, None],\n",
       "                                        'max_features': ['auto', 'sqrt'],\n",
       "                                        'min_samples_leaf': [1, 2, 4, 6],\n",
       "                                        'min_samples_split': [10, 30, 50],\n",
       "                                        'n_estimators': [10, 100, 200],\n",
       "                                        'subsample': [0.5, 1.0]},\n",
       "                   random_state=8, scoring='f1_macro', verbose=1)"
      ]
     },
     "execution_count": 45,
     "metadata": {},
     "output_type": "execute_result"
    }
   ],
   "source": [
    "# First create the base model to tune\n",
    "gbc = GradientBoostingClassifier(random_state=8)\n",
    "\n",
    "# Definition of the random search\n",
    "random_search = RandomizedSearchCV(estimator=gbc,\n",
    "                                   param_distributions=random_grid,\n",
    "                                   n_iter=3,\n",
    "                                   scoring='f1_macro',\n",
    "                                   cv=3, \n",
    "                                   verbose=1, \n",
    "                                   random_state=8)\n",
    "\n",
    "# Fit the random search model\n",
    "random_search.fit(X_train.values, y_train.values)"
   ]
  },
  {
   "cell_type": "code",
   "execution_count": 46,
   "metadata": {},
   "outputs": [
    {
     "name": "stdout",
     "output_type": "stream",
     "text": [
      "The best hyperparameters from Random Search are:\n",
      "{'subsample': 1.0, 'n_estimators': 10, 'min_samples_split': 10, 'min_samples_leaf': 1, 'max_features': 'sqrt', 'max_depth': 50, 'learning_rate': 0.1}\n",
      "\n",
      "The mean accuracy of a model with these hyperparameters is:\n",
      "0.786075847000722\n"
     ]
    }
   ],
   "source": [
    "print(\"The best hyperparameters from Random Search are:\")\n",
    "print(random_search.best_params_)\n",
    "print(\"\")\n",
    "print(\"The mean accuracy of a model with these hyperparameters is:\")\n",
    "print(random_search.best_score_)"
   ]
  },
  {
   "cell_type": "code",
   "execution_count": 55,
   "metadata": {},
   "outputs": [
    {
     "name": "stdout",
     "output_type": "stream",
     "text": [
      "Fitting 3 folds for each of 32 candidates, totalling 96 fits\n"
     ]
    },
    {
     "data": {
      "text/plain": [
       "GridSearchCV(cv=ShuffleSplit(n_splits=3, random_state=8, test_size=0.2, train_size=None),\n",
       "             estimator=GradientBoostingClassifier(random_state=8),\n",
       "             param_grid={'learning_rate': [0.1], 'max_depth': [50, 60],\n",
       "                         'max_features': ['sqrt'], 'min_samples_leaf': [1, 2],\n",
       "                         'min_samples_split': [10, 12],\n",
       "                         'n_estimators': [10, 15], 'subsample': [1.0, 1.2]},\n",
       "             scoring='f1_macro', verbose=1)"
      ]
     },
     "execution_count": 55,
     "metadata": {},
     "output_type": "execute_result"
    }
   ],
   "source": [
    "# Create the parameter grid based on the results of random search \n",
    "max_depth = [50, 60]\n",
    "max_features = ['sqrt']\n",
    "min_samples_leaf = [1, 2]\n",
    "min_samples_split = [10, 12]\n",
    "n_estimators = [10, 15]\n",
    "learning_rate = [.1]\n",
    "subsample = [1.0, 1.2]\n",
    "\n",
    "param_grid = {\n",
    "    'max_depth': max_depth,\n",
    "    'max_features': max_features,\n",
    "    'min_samples_leaf': min_samples_leaf,\n",
    "    'min_samples_split': min_samples_split,\n",
    "    'n_estimators': n_estimators,\n",
    "    'learning_rate': learning_rate,\n",
    "    'subsample': subsample\n",
    "\n",
    "}\n",
    "\n",
    "# Create a base model\n",
    "gbc = GradientBoostingClassifier(random_state=8)\n",
    "\n",
    "# Manually create the splits in CV in order to be able to fix a random_state (GridSearchCV doesn't have that argument)\n",
    "cv_sets = ShuffleSplit(n_splits = 3, test_size = .2, random_state = 8)\n",
    "\n",
    "# Instantiate the grid search model\n",
    "grid_search = GridSearchCV(estimator=gbc, \n",
    "                           param_grid=param_grid,\n",
    "                           scoring='f1_macro',\n",
    "                           cv=cv_sets,\n",
    "                           verbose=1)\n",
    "\n",
    "# Fit the grid search to the data\n",
    "grid_search.fit(X_train.values, y_train.values)"
   ]
  },
  {
   "cell_type": "code",
   "execution_count": 56,
   "metadata": {},
   "outputs": [
    {
     "name": "stdout",
     "output_type": "stream",
     "text": [
      "The best hyperparameters from Grid Search are:\n",
      "{'learning_rate': 0.1, 'max_depth': 50, 'max_features': 'sqrt', 'min_samples_leaf': 2, 'min_samples_split': 10, 'n_estimators': 15, 'subsample': 1.0}\n",
      "\n",
      "The mean accuracy of a model with these hyperparameters is:\n",
      "0.7974934211795329\n"
     ]
    }
   ],
   "source": [
    "print(\"The best hyperparameters from Grid Search are:\")\n",
    "print(grid_search.best_params_)\n",
    "print(\"\")\n",
    "print(\"The mean accuracy of a model with these hyperparameters is:\")\n",
    "print(grid_search.best_score_)"
   ]
  },
  {
   "cell_type": "code",
   "execution_count": 57,
   "metadata": {},
   "outputs": [],
   "source": [
    "best_gbc = grid_search.best_estimator_"
   ]
  },
  {
   "cell_type": "code",
   "execution_count": 58,
   "metadata": {},
   "outputs": [
    {
     "data": {
      "text/plain": [
       "GradientBoostingClassifier(max_depth=50, max_features='sqrt',\n",
       "                           min_samples_leaf=2, min_samples_split=10,\n",
       "                           n_estimators=15, random_state=8)"
      ]
     },
     "execution_count": 58,
     "metadata": {},
     "output_type": "execute_result"
    }
   ],
   "source": [
    "best_gbc.fit(X_train.values, y_train.values)"
   ]
  },
  {
   "cell_type": "code",
   "execution_count": 59,
   "metadata": {},
   "outputs": [
    {
     "name": "stdout",
     "output_type": "stream",
     "text": [
      "The training accuracy is: \n",
      "1.0\n"
     ]
    }
   ],
   "source": [
    "print(\"The training accuracy is: \")\n",
    "print(accuracy_score(y_train, best_gbc.predict(X_train)))"
   ]
  },
  {
   "cell_type": "code",
   "execution_count": 60,
   "metadata": {},
   "outputs": [
    {
     "name": "stdout",
     "output_type": "stream",
     "text": [
      "The test accuracy is: \n",
      "0.8065550409690061\n"
     ]
    }
   ],
   "source": [
    "print(\"The test accuracy is: \")\n",
    "print(accuracy_score(y_test, best_gbc.predict(X_test)))"
   ]
  },
  {
   "cell_type": "code",
   "execution_count": 61,
   "metadata": {},
   "outputs": [
    {
     "name": "stdout",
     "output_type": "stream",
     "text": [
      "Classification report for testing\n",
      "              precision    recall  f1-score   support\n",
      "\n",
      "           0       0.81      0.80      0.81      1415\n",
      "           1       0.80      0.82      0.81      1392\n",
      "\n",
      "    accuracy                           0.81      2807\n",
      "   macro avg       0.81      0.81      0.81      2807\n",
      "weighted avg       0.81      0.81      0.81      2807\n",
      "\n"
     ]
    }
   ],
   "source": [
    "print(\"Classification report for testing\")\n",
    "print(classification_report(y_test,best_gbc.predict(X_test)))"
   ]
  },
  {
   "cell_type": "code",
   "execution_count": 62,
   "metadata": {},
   "outputs": [
    {
     "name": "stdout",
     "output_type": "stream",
     "text": [
      "Classification report for testing\n",
      "              precision    recall  f1-score   support\n",
      "\n",
      "           0       0.81      0.80      0.81      1415\n",
      "           1       0.80      0.82      0.81      1392\n",
      "\n",
      "    accuracy                           0.81      2807\n",
      "   macro avg       0.81      0.81      0.81      2807\n",
      "weighted avg       0.81      0.81      0.81      2807\n",
      "\n"
     ]
    }
   ],
   "source": [
    "print(\"Classification report for testing\")\n",
    "print(classification_report(y_test,best_gbc.predict(X_test)))"
   ]
  },
  {
   "cell_type": "markdown",
   "metadata": {},
   "source": [
    "### 2. Logistic Regression"
   ]
  },
  {
   "cell_type": "code",
   "execution_count": 63,
   "metadata": {},
   "outputs": [
    {
     "name": "stdout",
     "output_type": "stream",
     "text": [
      "Parameters currently in use:\n",
      "\n",
      "{'C': 1.0,\n",
      " 'class_weight': None,\n",
      " 'dual': False,\n",
      " 'fit_intercept': True,\n",
      " 'intercept_scaling': 1,\n",
      " 'l1_ratio': None,\n",
      " 'max_iter': 100,\n",
      " 'multi_class': 'auto',\n",
      " 'n_jobs': None,\n",
      " 'penalty': 'l2',\n",
      " 'random_state': 8,\n",
      " 'solver': 'lbfgs',\n",
      " 'tol': 0.0001,\n",
      " 'verbose': 0,\n",
      " 'warm_start': False}\n"
     ]
    }
   ],
   "source": [
    "lr_0 = LogisticRegression(random_state = 8)\n",
    "\n",
    "print('Parameters currently in use:\\n')\n",
    "pprint(lr_0.get_params())"
   ]
  },
  {
   "cell_type": "markdown",
   "metadata": {},
   "source": [
    "* `C` = Inverse of regularization strength. Smaller values specify stronger regularization.\n",
    "* `multi_class` = We'll choose `multinomial` because this is a multi-class problem.\n",
    "* `solver` = Algorithm to use in the optimization problem. For multiclass problems, only `newton-cg`, `sag`, `saga` and `lbfgs` handle multinomial loss.\n",
    "* `class_weight`: Weights associated with classes. \n",
    "* `penalty`: Used to specify the norm used in the penalization. The ‘newton-cg’, ‘sag’ and ‘lbfgs’ solvers support only l2 penalties."
   ]
  },
  {
   "cell_type": "code",
   "execution_count": 64,
   "metadata": {},
   "outputs": [
    {
     "name": "stdout",
     "output_type": "stream",
     "text": [
      "{'C': [0.1,\n",
      "       0.2,\n",
      "       0.30000000000000004,\n",
      "       0.4,\n",
      "       0.5,\n",
      "       0.6,\n",
      "       0.7000000000000001,\n",
      "       0.8,\n",
      "       0.9,\n",
      "       1.0],\n",
      " 'class_weight': [None],\n",
      " 'multi_class': ['auto'],\n",
      " 'penalty': ['l2'],\n",
      " 'solver': ['newton-cg', 'sag', 'saga', 'lbfgs']}\n"
     ]
    }
   ],
   "source": [
    "# C\n",
    "C = [float(x) for x in np.linspace(start = 0.1, stop = 1, num = 10)]\n",
    "\n",
    "# multi_class\n",
    "multi_class = ['auto']\n",
    "\n",
    "# solver\n",
    "solver = ['newton-cg', 'sag', 'saga', 'lbfgs']\n",
    " \n",
    "# class_weight\n",
    "class_weight = [None]\n",
    "\n",
    "# penalty\n",
    "penalty = ['l2']\n",
    "\n",
    "# Create the random grid\n",
    "random_grid = {'C': C,\n",
    "               'multi_class': multi_class,\n",
    "               'solver': solver,\n",
    "               'class_weight': class_weight,\n",
    "               'penalty': penalty}\n",
    "\n",
    "pprint(random_grid)"
   ]
  },
  {
   "cell_type": "code",
   "execution_count": 65,
   "metadata": {},
   "outputs": [
    {
     "name": "stdout",
     "output_type": "stream",
     "text": [
      "Fitting 5 folds for each of 10 candidates, totalling 50 fits\n"
     ]
    },
    {
     "data": {
      "text/plain": [
       "RandomizedSearchCV(cv=5, estimator=LogisticRegression(random_state=8),\n",
       "                   param_distributions={'C': [0.1, 0.2, 0.30000000000000004,\n",
       "                                              0.4, 0.5, 0.6, 0.7000000000000001,\n",
       "                                              0.8, 0.9, 1.0],\n",
       "                                        'class_weight': [None],\n",
       "                                        'multi_class': ['auto'],\n",
       "                                        'penalty': ['l2'],\n",
       "                                        'solver': ['newton-cg', 'sag', 'saga',\n",
       "                                                   'lbfgs']},\n",
       "                   random_state=8, scoring='f1_macro', verbose=1)"
      ]
     },
     "execution_count": 65,
     "metadata": {},
     "output_type": "execute_result"
    }
   ],
   "source": [
    "# First create the base model to tune\n",
    "lrc = LogisticRegression(random_state=8)\n",
    "\n",
    "# Definition of the random search\n",
    "random_search = RandomizedSearchCV(estimator=lrc,\n",
    "                                   param_distributions=random_grid,\n",
    "                                   n_iter=10,\n",
    "                                   scoring='f1_macro',\n",
    "                                   cv=5, \n",
    "                                   verbose=1, \n",
    "                                   random_state=8)\n",
    "\n",
    "# Fit the random search model\n",
    "random_search.fit(X_train, y_train)"
   ]
  },
  {
   "cell_type": "code",
   "execution_count": 66,
   "metadata": {},
   "outputs": [
    {
     "name": "stdout",
     "output_type": "stream",
     "text": [
      "The best hyperparameters from Random Search are:\n",
      "{'solver': 'newton-cg', 'penalty': 'l2', 'multi_class': 'auto', 'class_weight': None, 'C': 0.7000000000000001}\n",
      "\n",
      "The mean accuracy of a model with these hyperparameters is:\n",
      "0.7498859932548477\n"
     ]
    }
   ],
   "source": [
    "print(\"The best hyperparameters from Random Search are:\")\n",
    "print(random_search.best_params_)\n",
    "print(\"\")\n",
    "print(\"The mean accuracy of a model with these hyperparameters is:\")\n",
    "print(random_search.best_score_)"
   ]
  },
  {
   "cell_type": "code",
   "execution_count": 67,
   "metadata": {},
   "outputs": [
    {
     "name": "stdout",
     "output_type": "stream",
     "text": [
      "Fitting 5 folds for each of 10 candidates, totalling 50 fits\n"
     ]
    },
    {
     "data": {
      "text/plain": [
       "GridSearchCV(cv=ShuffleSplit(n_splits=5, random_state=8, test_size=0.2, train_size=None),\n",
       "             estimator=LogisticRegression(random_state=8),\n",
       "             param_grid={'C': [0.6, 0.6444444444444444, 0.6888888888888889,\n",
       "                               0.7333333333333333, 0.7777777777777778,\n",
       "                               0.8222222222222222, 0.8666666666666667,\n",
       "                               0.9111111111111111, 0.9555555555555555, 1.0],\n",
       "                         'class_weight': [None], 'multi_class': ['auto'],\n",
       "                         'penalty': ['l2'], 'solver': ['newton-cg']},\n",
       "             scoring='f1_macro', verbose=1)"
      ]
     },
     "execution_count": 67,
     "metadata": {},
     "output_type": "execute_result"
    }
   ],
   "source": [
    "# Create the parameter grid based on the results of random search \n",
    "C = [float(x) for x in np.linspace(start = 0.6, stop = 1.0, num = 10)]\n",
    "multi_class = ['auto']\n",
    "solver = ['newton-cg']\n",
    "class_weight = [None]\n",
    "penalty = ['l2']\n",
    "\n",
    "param_grid = {'C': C,\n",
    "               'multi_class': multi_class,\n",
    "               'solver': solver,\n",
    "               'class_weight': class_weight,\n",
    "               'penalty': penalty}\n",
    "\n",
    "# Create a base model\n",
    "lrc = LogisticRegression(random_state=8)\n",
    "cv_sets = ShuffleSplit(n_splits = 5, test_size = .2, random_state = 8)\n",
    "\n",
    "# Instantiate the grid search model\n",
    "grid_search = GridSearchCV(estimator=lrc, \n",
    "                           param_grid=param_grid,\n",
    "                           scoring='f1_macro',\n",
    "                           cv=cv_sets,\n",
    "                           verbose=1)\n",
    "\n",
    "# Fit the grid search to the data\n",
    "grid_search.fit(X_train, y_train)"
   ]
  },
  {
   "cell_type": "code",
   "execution_count": 68,
   "metadata": {},
   "outputs": [],
   "source": [
    "# select best estimator\n",
    "best_lrc = grid_search.best_estimator_"
   ]
  },
  {
   "cell_type": "code",
   "execution_count": 69,
   "metadata": {},
   "outputs": [
    {
     "data": {
      "text/plain": [
       "LogisticRegression(C=0.6444444444444444, random_state=8, solver='newton-cg')"
      ]
     },
     "execution_count": 69,
     "metadata": {},
     "output_type": "execute_result"
    }
   ],
   "source": [
    "best_lrc.fit(X_train, y_train)"
   ]
  },
  {
   "cell_type": "code",
   "execution_count": 70,
   "metadata": {},
   "outputs": [
    {
     "name": "stdout",
     "output_type": "stream",
     "text": [
      "The training accuracy is: \n",
      "0.7504230872004988\n"
     ]
    }
   ],
   "source": [
    "print(\"The training accuracy is: \")\n",
    "print(accuracy_score(y_train, best_lrc.predict(X_train)))"
   ]
  },
  {
   "cell_type": "code",
   "execution_count": 71,
   "metadata": {},
   "outputs": [
    {
     "name": "stdout",
     "output_type": "stream",
     "text": [
      "The test accuracy is: \n",
      "0.7502671891699323\n"
     ]
    }
   ],
   "source": [
    "print(\"The test accuracy is: \")\n",
    "print(accuracy_score(y_test, best_lrc.predict(X_test)))"
   ]
  },
  {
   "cell_type": "code",
   "execution_count": 72,
   "metadata": {},
   "outputs": [
    {
     "name": "stdout",
     "output_type": "stream",
     "text": [
      "Classification report for training\n",
      "              precision    recall  f1-score   support\n",
      "\n",
      "           0       0.75      0.74      0.74      5548\n",
      "           1       0.75      0.76      0.76      5679\n",
      "\n",
      "    accuracy                           0.75     11227\n",
      "   macro avg       0.75      0.75      0.75     11227\n",
      "weighted avg       0.75      0.75      0.75     11227\n",
      "\n"
     ]
    }
   ],
   "source": [
    "print(\"Classification report for training\")\n",
    "print(classification_report(y_train,best_lrc.predict(X_train)))"
   ]
  },
  {
   "cell_type": "code",
   "execution_count": 74,
   "metadata": {},
   "outputs": [
    {
     "name": "stdout",
     "output_type": "stream",
     "text": [
      "Classification report for testing\n",
      "              precision    recall  f1-score   support\n",
      "\n",
      "           0       0.76      0.74      0.75      1415\n",
      "           1       0.74      0.76      0.75      1392\n",
      "\n",
      "    accuracy                           0.75      2807\n",
      "   macro avg       0.75      0.75      0.75      2807\n",
      "weighted avg       0.75      0.75      0.75      2807\n",
      "\n"
     ]
    }
   ],
   "source": [
    "print(\"Classification report for testing\")\n",
    "print(classification_report(y_test,best_lrc.predict(X_test)))"
   ]
  }
 ],
 "metadata": {
  "kernelspec": {
   "display_name": "Python 3",
   "language": "python",
   "name": "python3"
  },
  "language_info": {
   "codemirror_mode": {
    "name": "ipython",
    "version": 3
   },
   "file_extension": ".py",
   "mimetype": "text/x-python",
   "name": "python",
   "nbconvert_exporter": "python",
   "pygments_lexer": "ipython3",
   "version": "3.8.5"
  }
 },
 "nbformat": 4,
 "nbformat_minor": 4
}
